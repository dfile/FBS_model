{
 "cells": [
  {
   "cell_type": "code",
   "execution_count": 2,
   "metadata": {
    "collapsed": true
   },
   "outputs": [],
   "source": [
    "URL = \"http://www.jhowell.net/cf/scores/Sked2017.htm\""
   ]
  },
  {
   "cell_type": "code",
   "execution_count": 3,
   "metadata": {
    "collapsed": true
   },
   "outputs": [],
   "source": [
    "import urllib\n",
    "import string\n",
    "import re\n",
    "import operator\n",
    "from bs4 import BeautifulSoup"
   ]
  },
  {
   "cell_type": "code",
   "execution_count": 4,
   "metadata": {
    "collapsed": true
   },
   "outputs": [],
   "source": [
    "with urllib.request.urlopen(URL) as response:\n",
    "   response = response.read()"
   ]
  },
  {
   "cell_type": "code",
   "execution_count": 5,
   "metadata": {
    "collapsed": true
   },
   "outputs": [],
   "source": [
    "#Page is cached. Uncomment to reload\n",
    "page = BeautifulSoup(response, 'html.parser')"
   ]
  },
  {
   "cell_type": "code",
   "execution_count": 6,
   "metadata": {},
   "outputs": [],
   "source": [
    "#page"
   ]
  },
  {
   "cell_type": "markdown",
   "metadata": {},
   "source": [
    "Functions to Extract Games"
   ]
  },
  {
   "cell_type": "code",
   "execution_count": 7,
   "metadata": {
    "collapsed": true
   },
   "outputs": [],
   "source": [
    "def get_games(team):\n",
    "    return team.find_all('tr')[1:]"
   ]
  },
  {
   "cell_type": "code",
   "execution_count": 8,
   "metadata": {
    "collapsed": true
   },
   "outputs": [],
   "source": [
    "def get_team_1(team):\n",
    "    try:\n",
    "        return team.find_all('p')[0].text\n",
    "    except:\n",
    "        return None"
   ]
  },
  {
   "cell_type": "code",
   "execution_count": 9,
   "metadata": {
    "collapsed": true
   },
   "outputs": [],
   "source": [
    "def get_score_1(game):\n",
    "    try:\n",
    "        score = int(game.find_all('td')[5].text)\n",
    "        return score\n",
    "    except:\n",
    "        return None"
   ]
  },
  {
   "cell_type": "code",
   "execution_count": 10,
   "metadata": {
    "collapsed": true
   },
   "outputs": [],
   "source": [
    "def get_score_2(game):\n",
    "    try:\n",
    "        score = int(game.find_all('td')[6].text)\n",
    "        return score\n",
    "    except:\n",
    "        return None"
   ]
  },
  {
   "cell_type": "code",
   "execution_count": 11,
   "metadata": {
    "collapsed": true
   },
   "outputs": [],
   "source": [
    "def get_opponent(game):\n",
    "    try:\n",
    "        opp = game.find_all('td')[3].text\n",
    "        opp = opp.replace('*', '')\n",
    "        return opp\n",
    "    except:\n",
    "        return None"
   ]
  },
  {
   "cell_type": "code",
   "execution_count": 12,
   "metadata": {
    "collapsed": true
   },
   "outputs": [],
   "source": [
    "def del_conf(team_name):\n",
    "    my_re = re.compile(r\"( \\(\\w\\w+ \\w+\\)$)|( \\(\\w+\\)$)\")\n",
    "    try:\n",
    "        return re.sub(my_re, '', team_name)\n",
    "    except:\n",
    "        return team_name"
   ]
  },
  {
   "cell_type": "code",
   "execution_count": 13,
   "metadata": {
    "collapsed": true
   },
   "outputs": [],
   "source": [
    "def get_game_details(game, team1):\n",
    "    if get_score_1(game):\n",
    "        return (del_conf(team1), del_conf(get_opponent(game)), get_score_1(game), get_score_2(game))\n",
    "    else:\n",
    "        return"
   ]
  },
  {
   "cell_type": "code",
   "execution_count": 14,
   "metadata": {
    "collapsed": true
   },
   "outputs": [],
   "source": [
    "def parse_games(team):\n",
    "    team1 = get_team_1(team)\n",
    "    games = [get_game_details(game, team1) for game in get_games(team)[:-1] \\\n",
    "             if get_game_details(game, team1)]\n",
    "    return games"
   ]
  },
  {
   "cell_type": "code",
   "execution_count": 15,
   "metadata": {
    "collapsed": true
   },
   "outputs": [],
   "source": [
    "teams = page.find_all('table')"
   ]
  },
  {
   "cell_type": "markdown",
   "metadata": {
    "collapsed": true
   },
   "source": [
    "#### Now, get all the games"
   ]
  },
  {
   "cell_type": "code",
   "execution_count": 19,
   "metadata": {
    "collapsed": true
   },
   "outputs": [],
   "source": [
    "all_games = []\n",
    "for team in teams:\n",
    "    all_games.extend(parse_games(team))"
   ]
  },
  {
   "cell_type": "code",
   "execution_count": 20,
   "metadata": {},
   "outputs": [
    {
     "data": {
      "text/plain": [
       "920"
      ]
     },
     "execution_count": 20,
     "metadata": {},
     "output_type": "execute_result"
    }
   ],
   "source": [
    "len(all_games)"
   ]
  },
  {
   "cell_type": "code",
   "execution_count": 28,
   "metadata": {},
   "outputs": [
    {
     "data": {
      "text/plain": [
       "[('Air Force', 'Virginia Military Institute', 62, 0),\n",
       " ('Air Force', 'Michigan', 13, 29),\n",
       " ('Air Force', 'San Diego State', 24, 28),\n",
       " ('Air Force', 'New Mexico', 38, 56),\n",
       " ('Air Force', 'Navy', 45, 48)]"
      ]
     },
     "execution_count": 28,
     "metadata": {},
     "output_type": "execute_result"
    }
   ],
   "source": [
    "all_games[:5]"
   ]
  },
  {
   "cell_type": "markdown",
   "metadata": {
    "collapsed": true
   },
   "source": [
    "There are approximately twice as many games as there should be because the teams appear in both orders"
   ]
  },
  {
   "cell_type": "code",
   "execution_count": 29,
   "metadata": {
    "collapsed": true
   },
   "outputs": [],
   "source": [
    "def alpha(game):\n",
    "    team1, team2, score1, score2 = game\n",
    "    if team1 < team2:\n",
    "        return game\n",
    "    else:\n",
    "        return (team2, team1, score2, score1)"
   ]
  },
  {
   "cell_type": "code",
   "execution_count": 30,
   "metadata": {
    "collapsed": true
   },
   "outputs": [],
   "source": [
    "all_games_alpha = [alpha(game) for game in all_games]\n",
    "all_games_alpha = list(set(all_games_alpha))"
   ]
  },
  {
   "cell_type": "code",
   "execution_count": 31,
   "metadata": {},
   "outputs": [
    {
     "data": {
      "text/plain": [
       "525"
      ]
     },
     "execution_count": 31,
     "metadata": {},
     "output_type": "execute_result"
    }
   ],
   "source": [
    "len(all_games_alpha)"
   ]
  },
  {
   "cell_type": "markdown",
   "metadata": {},
   "source": [
    "It works!"
   ]
  },
  {
   "cell_type": "code",
   "execution_count": 32,
   "metadata": {
    "collapsed": true
   },
   "outputs": [],
   "source": [
    "##TODO: Make this object oriented."
   ]
  },
  {
   "cell_type": "markdown",
   "metadata": {},
   "source": [
    "### Random Walk Model"
   ]
  },
  {
   "cell_type": "code",
   "execution_count": 33,
   "metadata": {
    "collapsed": true
   },
   "outputs": [],
   "source": [
    "import networkx as nx"
   ]
  },
  {
   "cell_type": "markdown",
   "metadata": {},
   "source": [
    "First, prepare the edges."
   ]
  },
  {
   "cell_type": "code",
   "execution_count": 34,
   "metadata": {
    "collapsed": true
   },
   "outputs": [],
   "source": [
    "def game_to_edge_ratio(game):\n",
    "    team1, team2, score1, score2 = game\n",
    "    if score1 <= score2:\n",
    "        return (team1, team2, np.sqrt(float(score2-score1)/score2))\n",
    "    else:\n",
    "        return (team2, team1, np.sqrt(float(score1-score2)/score1))"
   ]
  },
  {
   "cell_type": "code",
   "execution_count": 35,
   "metadata": {
    "collapsed": true
   },
   "outputs": [],
   "source": [
    "def game_to_edge(game):\n",
    "    team1, team2, score1, score2 = game\n",
    "    if score1 <= score2:\n",
    "        return (team1, team2, float(score2-score1))\n",
    "    else:\n",
    "        return (team2, team1, float(score1-score2))"
   ]
  },
  {
   "cell_type": "code",
   "execution_count": 36,
   "metadata": {
    "collapsed": true
   },
   "outputs": [],
   "source": [
    "edge_list = [game_to_edge(game) for game in all_games_alpha]"
   ]
  },
  {
   "cell_type": "markdown",
   "metadata": {},
   "source": [
    "Sanity Check: Did I get all the games with no repeats?"
   ]
  },
  {
   "cell_type": "code",
   "execution_count": 37,
   "metadata": {},
   "outputs": [
    {
     "name": "stdout",
     "output_type": "stream",
     "text": [
      "7\n"
     ]
    },
    {
     "data": {
      "text/plain": [
       "[('Purdue', 'Michigan', 18.0),\n",
       " ('Indiana', 'Michigan', 7.0),\n",
       " ('Michigan', 'Penn State', 29.0),\n",
       " ('Florida', 'Michigan', 16.0),\n",
       " ('Air Force', 'Michigan', 16.0),\n",
       " ('Cincinnati', 'Michigan', 22.0),\n",
       " ('Michigan', 'Michigan State', 4.0)]"
      ]
     },
     "execution_count": 37,
     "metadata": {},
     "output_type": "execute_result"
    }
   ],
   "source": [
    "print(len([edge for edge in edge_list if edge[0]=='Michigan' or edge[1]=='Michigan']))\n",
    "[edge for edge in edge_list if edge[0]=='Michigan' or edge[1]=='Michigan']"
   ]
  },
  {
   "cell_type": "code",
   "execution_count": 38,
   "metadata": {
    "collapsed": true
   },
   "outputs": [],
   "source": [
    "G = nx.DiGraph()"
   ]
  },
  {
   "cell_type": "code",
   "execution_count": 39,
   "metadata": {
    "collapsed": true
   },
   "outputs": [],
   "source": [
    "G.add_weighted_edges_from(edge_list)"
   ]
  },
  {
   "cell_type": "code",
   "execution_count": 40,
   "metadata": {
    "collapsed": true
   },
   "outputs": [],
   "source": [
    "ranked = nx.pagerank_numpy(G, alpha=.65)"
   ]
  },
  {
   "cell_type": "markdown",
   "metadata": {},
   "source": [
    "I'll need the teams alphabetically sorted later..."
   ]
  },
  {
   "cell_type": "code",
   "execution_count": 41,
   "metadata": {
    "collapsed": true
   },
   "outputs": [],
   "source": [
    "page_rank_sorted = sorted(ranked.items(), key=operator.itemgetter(0))"
   ]
  },
  {
   "cell_type": "markdown",
   "metadata": {},
   "source": [
    "But let's look at what the teams look like sorted by the random walk ranking."
   ]
  },
  {
   "cell_type": "code",
   "execution_count": 42,
   "metadata": {
    "scrolled": false
   },
   "outputs": [
    {
     "data": {
      "text/plain": [
       "[('Georgia', 0.02755634387176749),\n",
       " ('Notre Dame', 0.02243333768137154),\n",
       " ('Clemson', 0.017777368984828477),\n",
       " ('Alabama', 0.016636833055618746),\n",
       " ('Mississippi State', 0.015981097638500013),\n",
       " ('Iowa State', 0.015928893782690558),\n",
       " ('Syracuse', 0.015827012920808355),\n",
       " ('Texas Christian', 0.015777768998249377),\n",
       " ('Oklahoma', 0.014337028804768984),\n",
       " ('Arizona State', 0.013354335517201218),\n",
       " ('Penn State', 0.012652002208014065),\n",
       " ('Central Florida', 0.012547097675031656),\n",
       " ('Auburn', 0.011972696838047876),\n",
       " ('Southern California', 0.011960887365065592),\n",
       " ('Washington', 0.011781285359938016),\n",
       " ('Ohio State', 0.011457010625894326),\n",
       " ('Texas', 0.010972944784021624),\n",
       " ('North Carolina State', 0.010670798095622734),\n",
       " ('South Carolina', 0.010295092293857505)]"
      ]
     },
     "execution_count": 42,
     "metadata": {},
     "output_type": "execute_result"
    }
   ],
   "source": [
    "sorted(ranked.items(), key=operator.itemgetter(1))[:-20:-1]"
   ]
  },
  {
   "cell_type": "markdown",
   "metadata": {
    "collapsed": true
   },
   "source": [
    "### Regression Model"
   ]
  },
  {
   "cell_type": "code",
   "execution_count": 43,
   "metadata": {
    "collapsed": true
   },
   "outputs": [],
   "source": [
    "import numpy as np"
   ]
  },
  {
   "cell_type": "code",
   "execution_count": 44,
   "metadata": {
    "collapsed": true
   },
   "outputs": [],
   "source": [
    "all_teams = set()\n",
    "for team1, team2, _, _ in all_games_alpha:\n",
    "    all_teams.add(team1)\n",
    "    all_teams.add(team2)\n",
    "all_teams = list(all_teams)"
   ]
  },
  {
   "cell_type": "markdown",
   "metadata": {},
   "source": [
    "I want to make a matrix with a row for each game. The teams will be the columns. I'll assign each team a number that will correspond to the column index."
   ]
  },
  {
   "cell_type": "code",
   "execution_count": 45,
   "metadata": {
    "collapsed": true
   },
   "outputs": [],
   "source": [
    "all_teams_tuples = zip(all_teams, range(len(all_teams)))\n",
    "team_dict = dict(all_teams_tuples)"
   ]
  },
  {
   "cell_type": "code",
   "execution_count": 46,
   "metadata": {
    "collapsed": true
   },
   "outputs": [],
   "source": [
    "my_matrix = np.empty((0,len(all_teams)), int)\n",
    "my_vector = np.empty((0, 1))"
   ]
  },
  {
   "cell_type": "code",
   "execution_count": 47,
   "metadata": {
    "collapsed": true
   },
   "outputs": [],
   "source": [
    "for team1, team2, score1, score2 in all_games_alpha:\n",
    "    row = np.zeros(len(all_teams))\n",
    "    row[team_dict[team1]]=1\n",
    "    row[team_dict[team2]]=-1\n",
    "    my_matrix = np.append(my_matrix, [row], axis=0)\n",
    "    my_vector = np.append(my_vector, [[score1 - score2]], axis=0)\n",
    "\n",
    "#adding the Massey Fudge Factor\n",
    "my_matrix = np.append(my_matrix, [np.ones(len(all_teams))], axis=0)\n",
    "my_vector = np.append(my_vector, [[0]], axis=0)"
   ]
  },
  {
   "cell_type": "markdown",
   "metadata": {},
   "source": [
    "Sanity check: Do my matrix and vector have compatible dimensions?"
   ]
  },
  {
   "cell_type": "code",
   "execution_count": 48,
   "metadata": {},
   "outputs": [
    {
     "name": "stdout",
     "output_type": "stream",
     "text": [
      "(526, 210)\n",
      "(526, 1)\n"
     ]
    }
   ],
   "source": [
    "print(my_matrix.shape)\n",
    "print(my_vector.shape)"
   ]
  },
  {
   "cell_type": "markdown",
   "metadata": {
    "collapsed": true
   },
   "source": [
    "Least Squares -- my favorite thing"
   ]
  },
  {
   "cell_type": "code",
   "execution_count": 49,
   "metadata": {
    "collapsed": true
   },
   "outputs": [],
   "source": [
    "soln = np.linalg.lstsq(my_matrix, my_vector)"
   ]
  },
  {
   "cell_type": "code",
   "execution_count": 50,
   "metadata": {
    "collapsed": true
   },
   "outputs": [],
   "source": [
    "ranks = list(np.ndarray.flatten(soln[0]))"
   ]
  },
  {
   "cell_type": "code",
   "execution_count": 51,
   "metadata": {
    "collapsed": true
   },
   "outputs": [],
   "source": [
    "ranked = zip(all_teams, ranks)"
   ]
  },
  {
   "cell_type": "code",
   "execution_count": 52,
   "metadata": {
    "collapsed": true
   },
   "outputs": [],
   "source": [
    "sorted_x = sorted(ranked, key=operator.itemgetter(1))"
   ]
  },
  {
   "cell_type": "markdown",
   "metadata": {},
   "source": [
    "Let's see the results"
   ]
  },
  {
   "cell_type": "code",
   "execution_count": 53,
   "metadata": {},
   "outputs": [
    {
     "data": {
      "text/plain": [
       "[('Alabama', 45.928740962811524),\n",
       " ('Ohio State', 44.917722389827276),\n",
       " ('Penn State', 44.416209454554092),\n",
       " ('Notre Dame', 43.297013876086247),\n",
       " ('Clemson', 40.680722081124621),\n",
       " ('Georgia', 40.071158174643969),\n",
       " ('Central Florida', 36.452915824755884),\n",
       " ('Wisconsin', 36.181800714614418),\n",
       " ('Oklahoma State', 35.887366427495721),\n",
       " ('Virginia Tech', 35.842868735008352),\n",
       " ('Texas Christian', 35.780378630715205),\n",
       " ('Auburn', 35.215588406437256),\n",
       " ('Oklahoma', 33.262606032530144),\n",
       " ('Washington', 32.879365223288595),\n",
       " ('Western Illinois', 30.792069743221862),\n",
       " ('Iowa State', 30.050840263547247),\n",
       " ('Stanford', 28.26525899121577),\n",
       " ('Mississippi State', 27.771213016342486),\n",
       " ('Texas', 26.482788051338474)]"
      ]
     },
     "execution_count": 53,
     "metadata": {},
     "output_type": "execute_result"
    }
   ],
   "source": [
    "sorted_x[:-20:-1]"
   ]
  },
  {
   "cell_type": "markdown",
   "metadata": {},
   "source": [
    "Portland State! Are you kidding me? I'll use regularization to correct this apparent over-fitting."
   ]
  },
  {
   "cell_type": "markdown",
   "metadata": {
    "collapsed": true
   },
   "source": [
    "### Regularized Regression"
   ]
  },
  {
   "cell_type": "code",
   "execution_count": 54,
   "metadata": {},
   "outputs": [
    {
     "name": "stderr",
     "output_type": "stream",
     "text": [
      "/Users/danielfile/anaconda/lib/python3.6/site-packages/sklearn/cross_validation.py:44: DeprecationWarning: This module was deprecated in version 0.18 in favor of the model_selection module into which all the refactored classes and functions are moved. Also note that the interface of the new CV iterators are different from that of this module. This module will be removed in 0.20.\n",
      "  \"This module will be removed in 0.20.\", DeprecationWarning)\n",
      "/Users/danielfile/anaconda/lib/python3.6/site-packages/sklearn/grid_search.py:43: DeprecationWarning: This module was deprecated in version 0.18 in favor of the model_selection module into which all the refactored classes and functions are moved. This module will be removed in 0.20.\n",
      "  DeprecationWarning)\n"
     ]
    }
   ],
   "source": [
    "from sklearn import linear_model, grid_search, preprocessing"
   ]
  },
  {
   "cell_type": "code",
   "execution_count": 55,
   "metadata": {
    "collapsed": true
   },
   "outputs": [],
   "source": [
    "lm = linear_model.Ridge()\n",
    "parameters = {'alpha':[0.01, 0.1, 1, 10, 100]}\n"
   ]
  },
  {
   "cell_type": "code",
   "execution_count": 56,
   "metadata": {
    "collapsed": true
   },
   "outputs": [],
   "source": [
    "clf = grid_search.GridSearchCV(lm, parameters)"
   ]
  },
  {
   "cell_type": "code",
   "execution_count": 57,
   "metadata": {},
   "outputs": [
    {
     "data": {
      "text/plain": [
       "GridSearchCV(cv=None, error_score='raise',\n",
       "       estimator=Ridge(alpha=1.0, copy_X=True, fit_intercept=True, max_iter=None,\n",
       "   normalize=False, random_state=None, solver='auto', tol=0.001),\n",
       "       fit_params={}, iid=True, n_jobs=1,\n",
       "       param_grid={'alpha': [0.01, 0.1, 1, 10, 100]},\n",
       "       pre_dispatch='2*n_jobs', refit=True, scoring=None, verbose=0)"
      ]
     },
     "execution_count": 57,
     "metadata": {},
     "output_type": "execute_result"
    }
   ],
   "source": [
    "clf.fit(my_matrix, my_vector)"
   ]
  },
  {
   "cell_type": "code",
   "execution_count": 58,
   "metadata": {
    "collapsed": true
   },
   "outputs": [],
   "source": [
    "ridge = clf.best_estimator_"
   ]
  },
  {
   "cell_type": "code",
   "execution_count": 59,
   "metadata": {},
   "outputs": [
    {
     "data": {
      "text/plain": [
       "Ridge(alpha=1, copy_X=True, fit_intercept=True, max_iter=None,\n",
       "   normalize=False, random_state=None, solver='auto', tol=0.001)"
      ]
     },
     "execution_count": 59,
     "metadata": {},
     "output_type": "execute_result"
    }
   ],
   "source": [
    "ridge.fit(my_matrix, my_vector)"
   ]
  },
  {
   "cell_type": "markdown",
   "metadata": {},
   "source": [
    "I have my model, and it's been fited. Let's take a look."
   ]
  },
  {
   "cell_type": "code",
   "execution_count": null,
   "metadata": {
    "collapsed": true
   },
   "outputs": [],
   "source": []
  },
  {
   "cell_type": "code",
   "execution_count": 81,
   "metadata": {
    "collapsed": true
   },
   "outputs": [],
   "source": [
    "linear_rank = list(zip(all_teams, list(preprocessing.scale(ridge.coef_[0]))))"
   ]
  },
  {
   "cell_type": "code",
   "execution_count": 82,
   "metadata": {},
   "outputs": [
    {
     "data": {
      "text/plain": [
       "[('Alabama', 2.7230592832389084),\n",
       " ('Ohio State', 2.4911256321972517),\n",
       " ('Penn State', 2.3401652504512276),\n",
       " ('Notre Dame', 2.2280623790343941),\n",
       " ('Georgia', 2.1935288301567959),\n",
       " ('Clemson', 2.1017297073294432),\n",
       " ('Central Florida', 2.0692236346298518),\n",
       " ('Texas Christian', 1.9935344878789933),\n",
       " ('Oklahoma State', 1.9420499013734265),\n",
       " ('Auburn', 1.9035038376726066),\n",
       " ('Washington', 1.8427335422098621),\n",
       " ('Wisconsin', 1.8052968033792947),\n",
       " ('Virginia Tech', 1.719440248698205),\n",
       " ('Oklahoma', 1.6740332789857304),\n",
       " ('Iowa State', 1.5158717526253098),\n",
       " ('Mississippi State', 1.3827515200707592),\n",
       " ('Stanford', 1.3827498113137531),\n",
       " ('Miami (Florida)', 1.274610717674209),\n",
       " ('Iowa', 1.26012940474303)]"
      ]
     },
     "execution_count": 82,
     "metadata": {},
     "output_type": "execute_result"
    }
   ],
   "source": [
    "sorted(linear_rank, key=operator.itemgetter(1))[:-20:-1]"
   ]
  },
  {
   "cell_type": "markdown",
   "metadata": {},
   "source": [
    "It knocked down Portland State a little bit, but not much..."
   ]
  },
  {
   "cell_type": "markdown",
   "metadata": {},
   "source": [
    "### Ensemble"
   ]
  },
  {
   "cell_type": "markdown",
   "metadata": {},
   "source": [
    "I need to put the two models on the same scale."
   ]
  },
  {
   "cell_type": "code",
   "execution_count": 83,
   "metadata": {
    "collapsed": true
   },
   "outputs": [],
   "source": [
    "linear_rank_sorted = sorted(linear_rank, key=operator.itemgetter(0))"
   ]
  },
  {
   "cell_type": "code",
   "execution_count": 85,
   "metadata": {},
   "outputs": [],
   "source": [
    "page_ranks = list(preprocessing.scale(list(zip(*page_rank_sorted))[1]))"
   ]
  },
  {
   "cell_type": "code",
   "execution_count": 86,
   "metadata": {},
   "outputs": [],
   "source": [
    "final = list(zip(linear_rank_sorted, page_ranks))"
   ]
  },
  {
   "cell_type": "code",
   "execution_count": 87,
   "metadata": {},
   "outputs": [],
   "source": [
    "final = [(team, first + second) for (team, first), second in final]"
   ]
  },
  {
   "cell_type": "code",
   "execution_count": 88,
   "metadata": {},
   "outputs": [],
   "source": [
    "final = sorted(final, key=operator.itemgetter(1))"
   ]
  },
  {
   "cell_type": "code",
   "execution_count": 89,
   "metadata": {},
   "outputs": [
    {
     "data": {
      "text/plain": [
       "[('Georgia', 7.9665924228095619),\n",
       " ('Notre Dame', 6.7036410728412452),\n",
       " ('Alabama', 5.730578611413125),\n",
       " ('Clemson', 5.3981083672598924),\n",
       " ('Texas Christian', 4.783481828014696),\n",
       " ('Iowa State', 4.3440939100004243),\n",
       " ('Penn State', 4.3384611545126504),\n",
       " ('Mississippi State', 4.2241951556282107),\n",
       " ('Ohio State', 4.1867704219666351),\n",
       " ('Oklahoma', 4.0990896596481496),\n",
       " ('Central Florida', 4.0409507542107228),\n",
       " ('Auburn', 3.7297545740181675),\n",
       " ('Washington', 3.6205061988726568),\n",
       " ('Syracuse', 3.4071586618211027),\n",
       " ('Arizona State', 3.1270282396771449),\n",
       " ('Southern California', 2.9416760413458567),\n",
       " ('Wisconsin', 2.8799018142456321),\n",
       " ('Oklahoma State', 2.8359331215857821),\n",
       " ('Stanford', 2.7511014869813439),\n",
       " ('North Carolina State', 2.7467891441795267),\n",
       " ('Texas', 2.7135753253338102),\n",
       " ('Fresno State', 2.4460819072832591),\n",
       " ('Virginia Tech', 2.4039525398304544),\n",
       " ('Miami (Florida)', 2.35939770419481),\n",
       " ('San Diego State', 2.1488598088395801),\n",
       " ('South Carolina', 2.137934314688108),\n",
       " ('Washington State', 2.0409284407343464),\n",
       " ('Louisiana State', 2.0300598497650024),\n",
       " ('California', 1.9274701028158505),\n",
       " ('Michigan', 1.9088996400438127),\n",
       " ('Iowa', 1.8707306454684534),\n",
       " ('Miami', 1.8491250807524278),\n",
       " ('Michigan State', 1.7264842915871754),\n",
       " ('Purdue', 1.6491446817802018),\n",
       " ('Southern Methodist', 1.6257273407093908),\n",
       " ('South Florida', 1.5793639356572311),\n",
       " ('Boston College', 1.5482829156194242),\n",
       " ('Boise State', 1.520473062834649),\n",
       " ('Texas Tech', 1.469312970128005),\n",
       " ('Georgia Tech', 1.4519827324825951),\n",
       " ('Texas A&M;', 1.4238547894061564),\n",
       " ('Wake Forest', 1.4019955637130426),\n",
       " ('Virginia', 1.3468934626347071),\n",
       " ('Florida Atlantic', 1.3324800158202548),\n",
       " ('Oregon', 1.3148378890060244),\n",
       " ('Maryland', 1.2608626742899323),\n",
       " ('Kentucky', 1.1920046286372386),\n",
       " ('West Virginia', 1.1893409689802359),\n",
       " ('Arizona', 1.1566895217703967)]"
      ]
     },
     "execution_count": 89,
     "metadata": {},
     "output_type": "execute_result"
    }
   ],
   "source": [
    "final[:-50:-1]"
   ]
  },
  {
   "cell_type": "code",
   "execution_count": null,
   "metadata": {
    "collapsed": true
   },
   "outputs": [],
   "source": []
  }
 ],
 "metadata": {
  "kernelspec": {
   "display_name": "Python 3",
   "language": "python",
   "name": "python3"
  },
  "language_info": {
   "codemirror_mode": {
    "name": "ipython",
    "version": 3
   },
   "file_extension": ".py",
   "mimetype": "text/x-python",
   "name": "python",
   "nbconvert_exporter": "python",
   "pygments_lexer": "ipython3",
   "version": "3.6.1"
  }
 },
 "nbformat": 4,
 "nbformat_minor": 1
}
