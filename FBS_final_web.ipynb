{
 "cells": [
  {
   "cell_type": "code",
   "execution_count": 2,
   "metadata": {
    "collapsed": true
   },
   "outputs": [],
   "source": [
    "URL = 'http://www.jhowell.net/cf/scores/Sked2015.htm'"
   ]
  },
  {
   "cell_type": "code",
   "execution_count": 3,
   "metadata": {
    "collapsed": true
   },
   "outputs": [],
   "source": [
    "import urllib2\n",
    "import string\n",
    "import re\n",
    "import operator\n",
    "from bs4 import BeautifulSoup"
   ]
  },
  {
   "cell_type": "code",
   "execution_count": 4,
   "metadata": {
    "collapsed": false
   },
   "outputs": [],
   "source": [
    "#Page is cached. Uncomment to reload\n",
    "response = urllib2.urlopen(URL)\n",
    "page = BeautifulSoup(response.read(), 'html.parser')"
   ]
  },
  {
   "cell_type": "markdown",
   "metadata": {},
   "source": [
    "Functions to Extract Games"
   ]
  },
  {
   "cell_type": "code",
   "execution_count": 5,
   "metadata": {
    "collapsed": true
   },
   "outputs": [],
   "source": [
    "def get_games(team):\n",
    "    return team.find_all('tr')[1:]"
   ]
  },
  {
   "cell_type": "code",
   "execution_count": 6,
   "metadata": {
    "collapsed": false
   },
   "outputs": [],
   "source": [
    "def get_team_1(team):\n",
    "    try:\n",
    "        return team.find_all('p')[0].text\n",
    "    except:\n",
    "        return None"
   ]
  },
  {
   "cell_type": "code",
   "execution_count": 7,
   "metadata": {
    "collapsed": true
   },
   "outputs": [],
   "source": [
    "def get_score_1(game):\n",
    "    try:\n",
    "        score = int(game.find_all('td')[5].text)\n",
    "        return score\n",
    "    except:\n",
    "        return None"
   ]
  },
  {
   "cell_type": "code",
   "execution_count": 8,
   "metadata": {
    "collapsed": true
   },
   "outputs": [],
   "source": [
    "def get_score_2(game):\n",
    "    try:\n",
    "        score = int(game.find_all('td')[6].text)\n",
    "        return score\n",
    "    except:\n",
    "        return None"
   ]
  },
  {
   "cell_type": "code",
   "execution_count": 9,
   "metadata": {
    "collapsed": false
   },
   "outputs": [],
   "source": [
    "def get_opponent(game):\n",
    "    try:\n",
    "        opp = game.find_all('td')[3].text\n",
    "        opp = string.strip(opp, '*')\n",
    "        return opp\n",
    "    except:\n",
    "        return None"
   ]
  },
  {
   "cell_type": "code",
   "execution_count": 10,
   "metadata": {
    "collapsed": true
   },
   "outputs": [],
   "source": [
    "def del_conf(team_name):\n",
    "    my_re = re.compile(r\"( \\(\\w\\w+ \\w+\\)$)|( \\(\\w+\\)$)\")\n",
    "    try:\n",
    "        return re.sub(my_re, '', team_name)\n",
    "    except:\n",
    "        return team_name"
   ]
  },
  {
   "cell_type": "code",
   "execution_count": 11,
   "metadata": {
    "collapsed": false
   },
   "outputs": [],
   "source": [
    "def get_game_details(game, team1):\n",
    "    if get_score_1(game):\n",
    "        return (del_conf(team1), del_conf(get_opponent(game)), get_score_1(game), get_score_2(game))\n",
    "    else:\n",
    "        return"
   ]
  },
  {
   "cell_type": "code",
   "execution_count": 12,
   "metadata": {
    "collapsed": false
   },
   "outputs": [],
   "source": [
    "def parse_games(team):\n",
    "    team1 = get_team_1(team)\n",
    "    games = [get_game_details(game, team1) for game in get_games(team)[:-1] \\\n",
    "             if get_game_details(game, team1)]\n",
    "    return games"
   ]
  },
  {
   "cell_type": "code",
   "execution_count": 13,
   "metadata": {
    "collapsed": false
   },
   "outputs": [],
   "source": [
    "teams = page.find_all('table')"
   ]
  },
  {
   "cell_type": "code",
   "execution_count": 14,
   "metadata": {
    "collapsed": false
   },
   "outputs": [],
   "source": [
    "get_score_1(parse_games(teams[0])[1][0])"
   ]
  },
  {
   "cell_type": "markdown",
   "metadata": {
    "collapsed": true
   },
   "source": [
    "#### Now, get all the games"
   ]
  },
  {
   "cell_type": "code",
   "execution_count": 15,
   "metadata": {
    "collapsed": true
   },
   "outputs": [],
   "source": [
    "all_games = []\n",
    "for team in teams:\n",
    "    all_games.extend(parse_games(team))"
   ]
  },
  {
   "cell_type": "code",
   "execution_count": 16,
   "metadata": {
    "collapsed": false
   },
   "outputs": [
    {
     "data": {
      "text/plain": [
       "1526"
      ]
     },
     "execution_count": 16,
     "metadata": {},
     "output_type": "execute_result"
    }
   ],
   "source": [
    "len(all_games)"
   ]
  },
  {
   "cell_type": "markdown",
   "metadata": {
    "collapsed": true
   },
   "source": [
    "There are approximately twice as many games as there should be because the teams appear in both orders"
   ]
  },
  {
   "cell_type": "code",
   "execution_count": 17,
   "metadata": {
    "collapsed": false
   },
   "outputs": [],
   "source": [
    "def alpha(game):\n",
    "    team1, team2, score1, score2 = game\n",
    "    if team1 < team2:\n",
    "        return game\n",
    "    else:\n",
    "        return (team2, team1, score2, score1)"
   ]
  },
  {
   "cell_type": "code",
   "execution_count": 18,
   "metadata": {
    "collapsed": true
   },
   "outputs": [],
   "source": [
    "all_games_alpha = [alpha(game) for game in all_games]\n",
    "all_games_alpha = list(set(all_games_alpha))"
   ]
  },
  {
   "cell_type": "code",
   "execution_count": 19,
   "metadata": {
    "collapsed": false
   },
   "outputs": [
    {
     "data": {
      "text/plain": [
       "849"
      ]
     },
     "execution_count": 19,
     "metadata": {},
     "output_type": "execute_result"
    }
   ],
   "source": [
    "len(all_games_alpha)"
   ]
  },
  {
   "cell_type": "markdown",
   "metadata": {},
   "source": [
    "It works!"
   ]
  },
  {
   "cell_type": "markdown",
   "metadata": {},
   "source": [
    "### Random Walk Model"
   ]
  },
  {
   "cell_type": "code",
   "execution_count": 20,
   "metadata": {
    "collapsed": true
   },
   "outputs": [],
   "source": [
    "import networkx as nx"
   ]
  },
  {
   "cell_type": "markdown",
   "metadata": {},
   "source": [
    "First, prepare the edges."
   ]
  },
  {
   "cell_type": "code",
   "execution_count": 21,
   "metadata": {
    "collapsed": true
   },
   "outputs": [],
   "source": [
    "def game_to_edge_ratio(game):\n",
    "    team1, team2, score1, score2 = game\n",
    "    if score1 <= score2:\n",
    "        return (team1, team2, np.sqrt(float(score2-score1)/score2))\n",
    "    else:\n",
    "        return (team2, team1, np.sqrt(float(score1-score2)/score1))"
   ]
  },
  {
   "cell_type": "code",
   "execution_count": 22,
   "metadata": {
    "collapsed": true
   },
   "outputs": [],
   "source": [
    "def game_to_edge(game):\n",
    "    team1, team2, score1, score2 = game\n",
    "    if score1 <= score2:\n",
    "        return (team1, team2, float(score2-score1))\n",
    "    else:\n",
    "        return (team2, team1, float(score1-score2))"
   ]
  },
  {
   "cell_type": "code",
   "execution_count": 23,
   "metadata": {
    "collapsed": false
   },
   "outputs": [],
   "source": [
    "edge_list = [game_to_edge(game) for game in all_games_alpha]"
   ]
  },
  {
   "cell_type": "markdown",
   "metadata": {},
   "source": [
    "Sanity Check: Did I get all the games with no repeats?"
   ]
  },
  {
   "cell_type": "code",
   "execution_count": 24,
   "metadata": {
    "collapsed": false
   },
   "outputs": [
    {
     "name": "stdout",
     "output_type": "stream",
     "text": [
      "12\n"
     ]
    },
    {
     "data": {
      "text/plain": [
       "[(u'Nevada-Las Vegas', u'Michigan', 21.0),\n",
       " (u'Michigan', u'Ohio State', 29.0),\n",
       " (u'Michigan', u'Utah', 7.0),\n",
       " (u'Maryland', u'Michigan', 28.0),\n",
       " (u'Northwestern', u'Michigan', 38.0),\n",
       " (u'Rutgers', u'Michigan', 33.0),\n",
       " (u'Penn State', u'Michigan', 12.0),\n",
       " (u'Minnesota', u'Michigan', 3.0),\n",
       " (u'Oregon State', u'Michigan', 28.0),\n",
       " (u'Brigham Young', u'Michigan', 31.0),\n",
       " (u'Indiana', u'Michigan', 7.0),\n",
       " (u'Michigan', u'Michigan State', 4.0)]"
      ]
     },
     "execution_count": 24,
     "metadata": {},
     "output_type": "execute_result"
    }
   ],
   "source": [
    "print len([edge for edge in edge_list if edge[0]=='Michigan' or edge[1]=='Michigan'])\n",
    "[edge for edge in edge_list if edge[0]=='Michigan' or edge[1]=='Michigan']"
   ]
  },
  {
   "cell_type": "code",
   "execution_count": 25,
   "metadata": {
    "collapsed": true
   },
   "outputs": [],
   "source": [
    "G = nx.DiGraph()"
   ]
  },
  {
   "cell_type": "code",
   "execution_count": 26,
   "metadata": {
    "collapsed": false
   },
   "outputs": [],
   "source": [
    "G.add_weighted_edges_from(edge_list)"
   ]
  },
  {
   "cell_type": "code",
   "execution_count": 27,
   "metadata": {
    "collapsed": true
   },
   "outputs": [],
   "source": [
    "ranked = nx.pagerank_numpy(G, alpha=.65)"
   ]
  },
  {
   "cell_type": "markdown",
   "metadata": {},
   "source": [
    "I'll need the teams alphabetically sorted later..."
   ]
  },
  {
   "cell_type": "code",
   "execution_count": 28,
   "metadata": {
    "collapsed": false
   },
   "outputs": [],
   "source": [
    "page_rank_sorted = sorted(ranked.items(), key=operator.itemgetter(0))"
   ]
  },
  {
   "cell_type": "markdown",
   "metadata": {},
   "source": [
    "But let's look at what the teams look like sorted by the random walk ranking."
   ]
  },
  {
   "cell_type": "code",
   "execution_count": 29,
   "metadata": {
    "collapsed": false,
    "scrolled": false
   },
   "outputs": [
    {
     "data": {
      "text/plain": [
       "[(u'Michigan State', 0.027315590655555846),\n",
       " (u'Clemson', 0.024016553126832024),\n",
       " (u'Mississippi', 0.021393158728406494),\n",
       " (u'Nebraska', 0.021166713587665323),\n",
       " (u'Oklahoma', 0.01953325110156494),\n",
       " (u'Alabama', 0.019247611682379314),\n",
       " (u'Texas', 0.01656581759414959),\n",
       " (u'Ohio State', 0.014897761592585502),\n",
       " (u'Stanford', 0.014805920449450682),\n",
       " (u'Florida', 0.014299861011530583),\n",
       " (u'Florida State', 0.014212947786712076),\n",
       " (u'Michigan', 0.014153615545303208),\n",
       " (u'Northwestern', 0.013977634777024739),\n",
       " (u'Oklahoma State', 0.013062217936205042),\n",
       " (u'Iowa', 0.012918017884925255),\n",
       " (u'Notre Dame', 0.012584219720175715),\n",
       " (u'North Carolina', 0.012269137960045085),\n",
       " (u'Utah', 0.012199946394122025),\n",
       " (u'Southern California', 0.011959238718724252)]"
      ]
     },
     "execution_count": 29,
     "metadata": {},
     "output_type": "execute_result"
    }
   ],
   "source": [
    "sorted(ranked.items(), key=operator.itemgetter(1))[:-20:-1]"
   ]
  },
  {
   "cell_type": "markdown",
   "metadata": {
    "collapsed": true
   },
   "source": [
    "### Regression Model"
   ]
  },
  {
   "cell_type": "code",
   "execution_count": 30,
   "metadata": {
    "collapsed": false
   },
   "outputs": [],
   "source": [
    "import numpy as np"
   ]
  },
  {
   "cell_type": "code",
   "execution_count": 31,
   "metadata": {
    "collapsed": false
   },
   "outputs": [],
   "source": [
    "all_teams = set()\n",
    "for team1, team2, _, _ in all_games_alpha:\n",
    "    all_teams.add(team1)\n",
    "    all_teams.add(team2)\n",
    "all_teams = list(all_teams)"
   ]
  },
  {
   "cell_type": "markdown",
   "metadata": {},
   "source": [
    "I want to make a matrix with a row for each game. The teams will be the columns. I'll assign each team a number that will correspond to the column index."
   ]
  },
  {
   "cell_type": "code",
   "execution_count": 32,
   "metadata": {
    "collapsed": false
   },
   "outputs": [],
   "source": [
    "all_teams_tuples = zip(all_teams, range(len(all_teams)))\n",
    "team_dict = dict(all_teams_tuples)"
   ]
  },
  {
   "cell_type": "code",
   "execution_count": 33,
   "metadata": {
    "collapsed": false
   },
   "outputs": [],
   "source": [
    "my_matrix = np.empty((0,len(all_teams)), int)\n",
    "my_vector = np.empty((0, 1))"
   ]
  },
  {
   "cell_type": "code",
   "execution_count": 34,
   "metadata": {
    "collapsed": false
   },
   "outputs": [],
   "source": [
    "for team1, team2, score1, score2 in all_games_alpha:\n",
    "    row = np.zeros(len(all_teams))\n",
    "    row[team_dict[team1]]=1\n",
    "    row[team_dict[team2]]=-1\n",
    "    my_matrix = np.append(my_matrix, [row], axis=0)\n",
    "    my_vector = np.append(my_vector, [[score1 - score2]], axis=0)\n",
    "\n",
    "#adding the Massey Fudge Factor\n",
    "my_matrix = np.append(my_matrix, [np.ones(len(all_teams))], axis=0)\n",
    "my_vector = np.append(my_vector, [[0]], axis=0)"
   ]
  },
  {
   "cell_type": "markdown",
   "metadata": {
    "collapsed": false
   },
   "source": [
    "Sanity check: Do my matrix and vector have compatible dimensions?"
   ]
  },
  {
   "cell_type": "code",
   "execution_count": 35,
   "metadata": {
    "collapsed": false
   },
   "outputs": [
    {
     "name": "stdout",
     "output_type": "stream",
     "text": [
      "(850, 209)\n",
      "(850, 1)\n"
     ]
    }
   ],
   "source": [
    "print my_matrix.shape\n",
    "print my_vector.shape"
   ]
  },
  {
   "cell_type": "markdown",
   "metadata": {
    "collapsed": true
   },
   "source": [
    "Least Squares -- my favorite thing"
   ]
  },
  {
   "cell_type": "code",
   "execution_count": 36,
   "metadata": {
    "collapsed": false
   },
   "outputs": [],
   "source": [
    "soln = np.linalg.lstsq(my_matrix, my_vector)"
   ]
  },
  {
   "cell_type": "code",
   "execution_count": 37,
   "metadata": {
    "collapsed": false
   },
   "outputs": [],
   "source": [
    "ranks = list(np.ndarray.flatten(soln[0]))"
   ]
  },
  {
   "cell_type": "code",
   "execution_count": 38,
   "metadata": {
    "collapsed": true
   },
   "outputs": [],
   "source": [
    "ranked = zip(all_teams, ranks)"
   ]
  },
  {
   "cell_type": "code",
   "execution_count": 39,
   "metadata": {
    "collapsed": false
   },
   "outputs": [],
   "source": [
    "sorted_x = sorted(ranked, key=operator.itemgetter(1))"
   ]
  },
  {
   "cell_type": "markdown",
   "metadata": {},
   "source": [
    "Let's see the results"
   ]
  },
  {
   "cell_type": "code",
   "execution_count": 40,
   "metadata": {
    "collapsed": false
   },
   "outputs": [
    {
     "data": {
      "text/plain": [
       "[(u'Oklahoma', 43.892517133063997),\n",
       " (u'Alabama', 36.088531668831735),\n",
       " (u'Ohio State', 35.737391707293526),\n",
       " (u'Baylor', 35.515951626404529),\n",
       " (u'Portland State', 34.376327474231836),\n",
       " (u'Clemson', 33.573424032981038),\n",
       " (u'North Carolina', 33.170438199393089),\n",
       " (u'Stanford', 30.998567560992356),\n",
       " (u'Notre Dame', 30.658449415711758),\n",
       " (u'Texas Christian', 30.393717621607674),\n",
       " (u'Mississippi', 30.278975427385006),\n",
       " (u'Michigan State', 29.67441738132484),\n",
       " (u'Oklahoma State', 29.640534564153739),\n",
       " (u'West Virginia', 29.220940046822321),\n",
       " (u'Michigan', 28.928575845412027),\n",
       " (u'Tennessee', 28.875982671115157),\n",
       " (u'Florida State', 28.289389014105325),\n",
       " (u'Southern California', 27.79823902570385),\n",
       " (u'Iowa', 27.384779267523122)]"
      ]
     },
     "execution_count": 40,
     "metadata": {},
     "output_type": "execute_result"
    }
   ],
   "source": [
    "sorted_x[:-20:-1]"
   ]
  },
  {
   "cell_type": "markdown",
   "metadata": {},
   "source": [
    "Portland State! Are you kidding me? I'll use regularization to correct this apparent over-fitting."
   ]
  },
  {
   "cell_type": "markdown",
   "metadata": {
    "collapsed": true
   },
   "source": [
    "### Regularized Regression"
   ]
  },
  {
   "cell_type": "code",
   "execution_count": 41,
   "metadata": {
    "collapsed": true
   },
   "outputs": [],
   "source": [
    "from sklearn import linear_model, grid_search, preprocessing"
   ]
  },
  {
   "cell_type": "code",
   "execution_count": 42,
   "metadata": {
    "collapsed": true
   },
   "outputs": [],
   "source": [
    "lm = linear_model.Ridge()\n",
    "parameters = {'alpha':[0.01, 0.1, 1, 10, 100]}\n"
   ]
  },
  {
   "cell_type": "code",
   "execution_count": 43,
   "metadata": {
    "collapsed": true
   },
   "outputs": [],
   "source": [
    "clf = grid_search.GridSearchCV(lm, parameters)"
   ]
  },
  {
   "cell_type": "code",
   "execution_count": 44,
   "metadata": {
    "collapsed": false
   },
   "outputs": [
    {
     "data": {
      "text/plain": [
       "GridSearchCV(cv=None, error_score='raise',\n",
       "       estimator=Ridge(alpha=1.0, copy_X=True, fit_intercept=True, max_iter=None,\n",
       "   normalize=False, solver='auto', tol=0.001),\n",
       "       fit_params={}, iid=True, loss_func=None, n_jobs=1,\n",
       "       param_grid={'alpha': [0.01, 0.1, 1, 10, 100]},\n",
       "       pre_dispatch='2*n_jobs', refit=True, score_func=None, scoring=None,\n",
       "       verbose=0)"
      ]
     },
     "execution_count": 44,
     "metadata": {},
     "output_type": "execute_result"
    }
   ],
   "source": [
    "clf.fit(my_matrix, my_vector)"
   ]
  },
  {
   "cell_type": "code",
   "execution_count": 45,
   "metadata": {
    "collapsed": false
   },
   "outputs": [],
   "source": [
    "ridge = clf.best_estimator_"
   ]
  },
  {
   "cell_type": "code",
   "execution_count": 46,
   "metadata": {
    "collapsed": false
   },
   "outputs": [
    {
     "data": {
      "text/plain": [
       "Ridge(alpha=0.1, copy_X=True, fit_intercept=True, max_iter=None,\n",
       "   normalize=False, solver='auto', tol=0.001)"
      ]
     },
     "execution_count": 46,
     "metadata": {},
     "output_type": "execute_result"
    }
   ],
   "source": [
    "ridge.fit(my_matrix, my_vector)"
   ]
  },
  {
   "cell_type": "markdown",
   "metadata": {},
   "source": [
    "I have my model, and it's been fited. Let's take a look."
   ]
  },
  {
   "cell_type": "code",
   "execution_count": null,
   "metadata": {
    "collapsed": true
   },
   "outputs": [],
   "source": []
  },
  {
   "cell_type": "code",
   "execution_count": 47,
   "metadata": {
    "collapsed": false
   },
   "outputs": [],
   "source": [
    "linear_rank = zip(all_teams, list(preprocessing.scale(ridge.coef_[0])))"
   ]
  },
  {
   "cell_type": "code",
   "execution_count": 48,
   "metadata": {
    "collapsed": false
   },
   "outputs": [
    {
     "data": {
      "text/plain": [
       "[(u'Oklahoma', 1.9973154915506381),\n",
       " (u'Alabama', 1.6442108323922235),\n",
       " (u'Ohio State', 1.6405665018802429),\n",
       " (u'Baylor', 1.5933948927333106),\n",
       " (u'Clemson', 1.533437994312824),\n",
       " (u'North Carolina', 1.5209924933965138),\n",
       " (u'Portland State', 1.5201599715152863),\n",
       " (u'Stanford', 1.4272528786186829),\n",
       " (u'Notre Dame', 1.3986416195180393),\n",
       " (u'Mississippi', 1.3906418447099382),\n",
       " (u'Texas Christian', 1.3854220388407812),\n",
       " (u'Michigan State', 1.3482610862597395),\n",
       " (u'Oklahoma State', 1.331915809423772),\n",
       " (u'West Virginia', 1.3255555932541623),\n",
       " (u'Tennessee', 1.3231521782847095),\n",
       " (u'Michigan', 1.3108131258562579),\n",
       " (u'Florida State', 1.294242932858116),\n",
       " (u'Southern California', 1.2748292665186916),\n",
       " (u'Washington', 1.2425086328785349)]"
      ]
     },
     "execution_count": 48,
     "metadata": {},
     "output_type": "execute_result"
    }
   ],
   "source": [
    "sorted(linear_rank, key=operator.itemgetter(1))[:-20:-1]"
   ]
  },
  {
   "cell_type": "markdown",
   "metadata": {},
   "source": [
    "It knocked down Portland State a little bit, but not much..."
   ]
  },
  {
   "cell_type": "markdown",
   "metadata": {},
   "source": [
    "### Ensemble"
   ]
  },
  {
   "cell_type": "markdown",
   "metadata": {},
   "source": [
    "I need to put the two models on the same scale."
   ]
  },
  {
   "cell_type": "code",
   "execution_count": 49,
   "metadata": {
    "collapsed": false
   },
   "outputs": [],
   "source": [
    "linear_rank_sorted = sorted(linear_rank, key=operator.itemgetter(0))"
   ]
  },
  {
   "cell_type": "code",
   "execution_count": 50,
   "metadata": {
    "collapsed": false
   },
   "outputs": [],
   "source": [
    "page_ranks = list(preprocessing.scale(zip(*page_rank_sorted)[1]))"
   ]
  },
  {
   "cell_type": "code",
   "execution_count": 51,
   "metadata": {
    "collapsed": false
   },
   "outputs": [],
   "source": [
    "final = zip(linear_rank_sorted, page_ranks)"
   ]
  },
  {
   "cell_type": "code",
   "execution_count": 52,
   "metadata": {
    "collapsed": false
   },
   "outputs": [],
   "source": [
    "final = [(team, first + second) for (team, first), second in final]"
   ]
  },
  {
   "cell_type": "code",
   "execution_count": 53,
   "metadata": {
    "collapsed": false
   },
   "outputs": [],
   "source": [
    "final = sorted(final, key=operator.itemgetter(1))"
   ]
  },
  {
   "cell_type": "code",
   "execution_count": 54,
   "metadata": {
    "collapsed": false
   },
   "outputs": [
    {
     "data": {
      "text/plain": [
       "[(u'Michigan State', 6.3305334555398547),\n",
       " (u'Clemson', 5.7861921324823227),\n",
       " (u'Oklahoma', 5.2586742501493324),\n",
       " (u'Mississippi', 5.0632831395480622),\n",
       " (u'Alabama', 4.8424059676597313),\n",
       " (u'Nebraska', 4.4504476386806999),\n",
       " (u'Ohio State', 3.8768765674952488),\n",
       " (u'Stanford', 3.643254054838057),\n",
       " (u'Michigan', 3.382569710834948),\n",
       " (u'Florida State', 3.3791196934709307),\n",
       " (u'Texas', 3.3636451291354001),\n",
       " (u'North Carolina', 3.176033371871279),\n",
       " (u'Oklahoma State', 3.1623309588184769),\n",
       " (u'Florida', 3.1563705784657952),\n",
       " (u'Notre Dame', 3.1233567245829557),\n",
       " (u'Iowa', 3.0253105523967658),\n",
       " (u'Northwestern', 2.8744056795091248),\n",
       " (u'Southern California', 2.8613419320275528),\n",
       " (u'Texas Christian', 2.825229709896675),\n",
       " (u'Utah', 2.7358652784753144),\n",
       " (u'Houston', 2.5666576383583184),\n",
       " (u'Navy', 2.556719178314939),\n",
       " (u'Louisiana State', 2.5281781361262841),\n",
       " (u'Baylor', 2.5199280791545706),\n",
       " (u'Oregon', 2.3813302297935257),\n",
       " (u'South Florida', 2.1409994681981166),\n",
       " (u'Bowling Green State', 2.110463168486425),\n",
       " (u'Memphis', 2.1093715181670563),\n",
       " (u'West Virginia', 2.0447564849642972),\n",
       " (u'Tennessee', 1.984511738715073),\n",
       " (u'Washington', 1.947374552378196),\n",
       " (u'Brigham Young', 1.86810659359508),\n",
       " (u'Western Kentucky', 1.7764341145926799),\n",
       " (u'Connecticut', 1.7316905331758332),\n",
       " (u'Temple', 1.7265392073508123),\n",
       " (u'Arkansas', 1.7019095601376848),\n",
       " (u'UCLA', 1.5384238640410235),\n",
       " (u'Toledo', 1.5135668728976535),\n",
       " (u'Mississippi State', 1.4637041680540819),\n",
       " (u'California', 1.4613673629656057),\n",
       " (u'Texas A&M;', 1.4237013172113753),\n",
       " (u'Western Michigan', 1.4061745216612294),\n",
       " (u'Texas Tech', 1.3566480448140421),\n",
       " (u'Wisconsin', 1.2814875596035371),\n",
       " (u'Arizona State', 1.2549999456026451),\n",
       " (u'San Diego State', 1.2331493707233769),\n",
       " (u'Miami (Florida)', 1.2167087780273773),\n",
       " (u'Northern Illinois', 1.1529247675927465),\n",
       " (u'Georgia Tech', 1.1376914593695993)]"
      ]
     },
     "execution_count": 54,
     "metadata": {},
     "output_type": "execute_result"
    }
   ],
   "source": [
    "final[:-50:-1]"
   ]
  },
  {
   "cell_type": "code",
   "execution_count": null,
   "metadata": {
    "collapsed": true
   },
   "outputs": [],
   "source": []
  }
 ],
 "metadata": {
  "kernelspec": {
   "display_name": "Python 2",
   "language": "python",
   "name": "python2"
  },
  "language_info": {
   "codemirror_mode": {
    "name": "ipython",
    "version": 2
   },
   "file_extension": ".py",
   "mimetype": "text/x-python",
   "name": "python",
   "nbconvert_exporter": "python",
   "pygments_lexer": "ipython2",
   "version": "2.7.9"
  }
 },
 "nbformat": 4,
 "nbformat_minor": 0
}
