{
 "cells": [
  {
   "cell_type": "code",
   "execution_count": 2,
   "metadata": {
    "collapsed": true
   },
   "outputs": [],
   "source": [
    "URL = \"http://www.jhowell.net/cf/scores/Sked2017.htm\""
   ]
  },
  {
   "cell_type": "code",
   "execution_count": 3,
   "metadata": {
    "collapsed": true
   },
   "outputs": [],
   "source": [
    "import urllib\n",
    "import string\n",
    "import re\n",
    "import operator\n",
    "from bs4 import BeautifulSoup"
   ]
  },
  {
   "cell_type": "code",
   "execution_count": 4,
   "metadata": {
    "collapsed": true
   },
   "outputs": [],
   "source": [
    "with urllib.request.urlopen(URL) as response:\n",
    "   response = response.read()"
   ]
  },
  {
   "cell_type": "code",
   "execution_count": 5,
   "metadata": {
    "collapsed": true
   },
   "outputs": [],
   "source": [
    "#Page is cached. Uncomment to reload\n",
    "page = BeautifulSoup(response, 'html.parser')"
   ]
  },
  {
   "cell_type": "code",
   "execution_count": 6,
   "metadata": {},
   "outputs": [],
   "source": [
    "#page"
   ]
  },
  {
   "cell_type": "markdown",
   "metadata": {},
   "source": [
    "Functions to Extract Games"
   ]
  },
  {
   "cell_type": "code",
   "execution_count": 7,
   "metadata": {
    "collapsed": true
   },
   "outputs": [],
   "source": [
    "def get_games(team):\n",
    "    return team.find_all('tr')[1:]"
   ]
  },
  {
   "cell_type": "code",
   "execution_count": 8,
   "metadata": {
    "collapsed": true
   },
   "outputs": [],
   "source": [
    "def get_team_1(team):\n",
    "    try:\n",
    "        return team.find_all('p')[0].text\n",
    "    except:\n",
    "        return None"
   ]
  },
  {
   "cell_type": "code",
   "execution_count": 9,
   "metadata": {
    "collapsed": true
   },
   "outputs": [],
   "source": [
    "def get_score_1(game):\n",
    "    try:\n",
    "        score = int(game.find_all('td')[5].text)\n",
    "        return score\n",
    "    except:\n",
    "        return None"
   ]
  },
  {
   "cell_type": "code",
   "execution_count": 10,
   "metadata": {
    "collapsed": true
   },
   "outputs": [],
   "source": [
    "def get_score_2(game):\n",
    "    try:\n",
    "        score = int(game.find_all('td')[6].text)\n",
    "        return score\n",
    "    except:\n",
    "        return None"
   ]
  },
  {
   "cell_type": "code",
   "execution_count": 11,
   "metadata": {
    "collapsed": true
   },
   "outputs": [],
   "source": [
    "def get_opponent(game):\n",
    "    try:\n",
    "        opp = game.find_all('td')[3].text\n",
    "        opp = opp.replace('*', '')\n",
    "        return opp\n",
    "    except:\n",
    "        return None"
   ]
  },
  {
   "cell_type": "code",
   "execution_count": 12,
   "metadata": {
    "collapsed": true
   },
   "outputs": [],
   "source": [
    "def del_conf(team_name):\n",
    "    my_re = re.compile(r\"( \\(\\w\\w+ \\w+\\)$)|( \\(\\w+\\)$)\")\n",
    "    try:\n",
    "        return re.sub(my_re, '', team_name)\n",
    "    except:\n",
    "        return team_name"
   ]
  },
  {
   "cell_type": "code",
   "execution_count": 13,
   "metadata": {
    "collapsed": true
   },
   "outputs": [],
   "source": [
    "def get_game_details(game, team1):\n",
    "    if get_score_1(game):\n",
    "        return (del_conf(team1), del_conf(get_opponent(game)), get_score_1(game), get_score_2(game))\n",
    "    else:\n",
    "        return"
   ]
  },
  {
   "cell_type": "code",
   "execution_count": 14,
   "metadata": {
    "collapsed": true
   },
   "outputs": [],
   "source": [
    "def parse_games(team):\n",
    "    team1 = get_team_1(team)\n",
    "    games = [get_game_details(game, team1) for game in get_games(team)[:-1] \\\n",
    "             if get_game_details(game, team1)]\n",
    "    return games"
   ]
  },
  {
   "cell_type": "code",
   "execution_count": 15,
   "metadata": {
    "collapsed": true
   },
   "outputs": [],
   "source": [
    "teams = page.find_all('table')"
   ]
  },
  {
   "cell_type": "markdown",
   "metadata": {
    "collapsed": true
   },
   "source": [
    "#### Now, get all the games"
   ]
  },
  {
   "cell_type": "code",
   "execution_count": 19,
   "metadata": {
    "collapsed": true
   },
   "outputs": [],
   "source": [
    "all_games = []\n",
    "for team in teams:\n",
    "    all_games.extend(parse_games(team))"
   ]
  },
  {
   "cell_type": "code",
   "execution_count": 20,
   "metadata": {},
   "outputs": [
    {
     "data": {
      "text/plain": [
       "920"
      ]
     },
     "execution_count": 20,
     "metadata": {},
     "output_type": "execute_result"
    }
   ],
   "source": [
    "len(all_games)"
   ]
  },
  {
   "cell_type": "code",
   "execution_count": 21,
   "metadata": {},
   "outputs": [
    {
     "data": {
      "text/plain": [
       "[('Air Force', 'Virginia Military Institute', 62, 0),\n",
       " ('Air Force', 'Michigan', 13, 29),\n",
       " ('Air Force', 'San Diego State', 24, 28),\n",
       " ('Air Force', 'New Mexico', 38, 56),\n",
       " ('Air Force', 'Navy', 45, 48),\n",
       " ('Air Force', 'Nevada-Las Vegas', 34, 30),\n",
       " ('Air Force', 'Nevada', 45, 42),\n",
       " ('Akron', 'Arkansas-Pine Bluff', 52, 3),\n",
       " ('Akron', 'Iowa State', 14, 41),\n",
       " ('Akron', 'Troy', 17, 22),\n",
       " ('Akron', 'Bowling Green State', 34, 23),\n",
       " ('Akron', 'Ball State', 31, 3),\n",
       " ('Akron', 'Western Michigan', 14, 13),\n",
       " ('Akron', 'Toledo', 21, 48),\n",
       " ('Alabama', 'Florida State', 24, 7),\n",
       " ('Alabama', 'Fresno State', 41, 10),\n",
       " ('Alabama', 'Colorado State', 41, 23),\n",
       " ('Alabama', 'Vanderbilt', 59, 0),\n",
       " ('Alabama', 'Mississippi', 66, 3),\n",
       " ('Alabama', 'Texas A&M;', 27, 19),\n",
       " ('Alabama', 'Arkansas', 41, 9),\n",
       " ('Alabama', 'Tennessee', 45, 7),\n",
       " ('Alabama-Birmingham', 'Alabama A&M;', 38, 7),\n",
       " ('Alabama-Birmingham', 'Ball State', 31, 51),\n",
       " ('Alabama-Birmingham', 'Coastal Carolina', 30, 23),\n",
       " ('Alabama-Birmingham', 'North Texas', 43, 46),\n",
       " ('Alabama-Birmingham', 'Louisiana Tech', 23, 22),\n",
       " ('Alabama-Birmingham', 'Middle Tennessee State', 25, 23),\n",
       " ('Alabama-Birmingham', 'Charlotte', 24, 25),\n",
       " ('Appalachian State', 'Georgia', 10, 31),\n",
       " ('Appalachian State', 'Savannah State', 54, 7),\n",
       " ('Appalachian State', 'Texas State', 20, 13),\n",
       " ('Appalachian State', 'Wake Forest', 19, 20),\n",
       " ('Appalachian State', 'New Mexico State', 45, 31),\n",
       " ('Appalachian State', 'Idaho', 23, 20),\n",
       " ('Appalachian State', 'Coastal Carolina', 37, 29),\n",
       " ('Arizona', 'Northern Arizona', 62, 24),\n",
       " ('Arizona', 'Houston', 16, 19),\n",
       " ('Arizona', 'Texas-El Paso', 63, 16),\n",
       " ('Arizona', 'Utah', 24, 30),\n",
       " ('Arizona', 'Colorado', 45, 42),\n",
       " ('Arizona', 'UCLA', 47, 30),\n",
       " ('Arizona', 'California', 45, 44),\n",
       " ('Arizona State', 'New Mexico State', 37, 31),\n",
       " ('Arizona State', 'San Diego State', 20, 30),\n",
       " ('Arizona State', 'Texas Tech', 45, 52),\n",
       " ('Arizona State', 'Oregon', 37, 35),\n",
       " ('Arizona State', 'Stanford', 24, 34),\n",
       " ('Arizona State', 'Washington', 13, 7),\n",
       " ('Arizona State', 'Utah', 30, 10),\n",
       " ('Arkansas', 'Florida A&M;', 49, 7),\n",
       " ('Arkansas', 'Texas Christian', 7, 28),\n",
       " ('Arkansas', 'Texas A&M;', 43, 50),\n",
       " ('Arkansas', 'New Mexico State', 42, 24),\n",
       " ('Arkansas', 'South Carolina', 22, 48),\n",
       " ('Arkansas', 'Alabama', 9, 41),\n",
       " ('Arkansas', 'Auburn', 20, 52),\n",
       " ('Arkansas State', 'Nebraska', 36, 43),\n",
       " ('Arkansas State', 'Arkansas-Pine Bluff', 48, 3),\n",
       " ('Arkansas State', 'Southern Methodist', 21, 44),\n",
       " ('Arkansas State', 'Georgia Southern', 43, 25),\n",
       " ('Arkansas State', 'Coastal Carolina', 51, 17),\n",
       " ('Arkansas State', 'Louisiana-Lafayette', 47, 3),\n",
       " ('Army', 'Fordham', 64, 6),\n",
       " ('Army', 'Buffalo', 21, 17),\n",
       " ('Army', 'Ohio State', 7, 38),\n",
       " ('Army', 'Tulane', 17, 21),\n",
       " ('Army', 'Texas-El Paso', 35, 21),\n",
       " ('Army', 'Rice', 49, 12),\n",
       " ('Army', 'Eastern Michigan', 28, 27),\n",
       " ('Army', 'Temple', 31, 28),\n",
       " ('Auburn', 'Georgia Southern', 41, 7),\n",
       " ('Auburn', 'Clemson', 6, 14),\n",
       " ('Auburn', 'Mercer', 24, 10),\n",
       " ('Auburn', 'Missouri', 51, 14),\n",
       " ('Auburn', 'Mississippi State', 49, 10),\n",
       " ('Auburn', 'Mississippi', 44, 23),\n",
       " ('Auburn', 'Louisiana State', 23, 27),\n",
       " ('Auburn', 'Arkansas', 52, 20),\n",
       " ('Ball State', 'Illinois', 21, 24),\n",
       " ('Ball State', 'Alabama-Birmingham', 51, 31),\n",
       " ('Ball State', 'Tennessee Tech', 28, 13),\n",
       " ('Ball State', 'Western Kentucky', 21, 33),\n",
       " ('Ball State', 'Western Michigan', 3, 55),\n",
       " ('Ball State', 'Akron', 3, 31),\n",
       " ('Ball State', 'Central Michigan', 9, 56),\n",
       " ('Baylor', 'Liberty', 45, 48),\n",
       " ('Baylor', 'Texas-San Antonio', 10, 17),\n",
       " ('Baylor', 'Duke', 20, 34),\n",
       " ('Baylor', 'Oklahoma', 41, 49),\n",
       " ('Baylor', 'Kansas State', 20, 33),\n",
       " ('Baylor', 'Oklahoma State', 16, 59),\n",
       " ('Baylor', 'West Virginia', 36, 38),\n",
       " ('Boise State', 'Troy', 24, 13),\n",
       " ('Boise State', 'Washington State', 44, 47),\n",
       " ('Boise State', 'New Mexico', 28, 14),\n",
       " ('Boise State', 'Virginia', 23, 42),\n",
       " ('Boise State', 'Brigham Young', 24, 7),\n",
       " ('Boise State', 'San Diego State', 31, 14),\n",
       " ('Boise State', 'Wyoming', 24, 14),\n",
       " ('Boston College', 'Northern Illinois', 23, 20),\n",
       " ('Boston College', 'Wake Forest', 10, 34),\n",
       " ('Boston College', 'Notre Dame', 20, 49),\n",
       " ('Boston College', 'Clemson', 7, 34),\n",
       " ('Boston College', 'Central Michigan', 28, 8),\n",
       " ('Boston College', 'Virginia Tech', 10, 23),\n",
       " ('Boston College', 'Louisville', 45, 42),\n",
       " ('Boston College', 'Virginia', 41, 10),\n",
       " ('Bowling Green State', 'Michigan State', 10, 35),\n",
       " ('Bowling Green State', 'South Dakota', 27, 35),\n",
       " ('Bowling Green State', 'Northwestern', 7, 49),\n",
       " ('Bowling Green State', 'Middle Tennessee State', 13, 24),\n",
       " ('Bowling Green State', 'Akron', 23, 34),\n",
       " ('Bowling Green State', 'Miami', 37, 29),\n",
       " ('Bowling Green State', 'Ohio', 30, 48),\n",
       " ('Bowling Green State', 'Northern Illinois', 17, 48),\n",
       " ('Brigham Young', 'Portland State', 20, 6),\n",
       " ('Brigham Young', 'Utah', 13, 19),\n",
       " ('Brigham Young', 'Wisconsin', 6, 40),\n",
       " ('Brigham Young', 'Utah State', 24, 40),\n",
       " ('Brigham Young', 'Boise State', 7, 24),\n",
       " ('Brigham Young', 'Mississippi State', 10, 35),\n",
       " ('Brigham Young', 'East Carolina', 17, 33),\n",
       " ('Buffalo', 'Minnesota', 7, 17),\n",
       " ('Buffalo', 'Army', 17, 21),\n",
       " ('Buffalo', 'Colgate', 33, 10),\n",
       " ('Buffalo', 'Florida Atlantic', 34, 31),\n",
       " ('Buffalo', 'Kent', 27, 13),\n",
       " ('Buffalo', 'Western Michigan', 68, 71),\n",
       " ('Buffalo', 'Northern Illinois', 13, 14),\n",
       " ('Buffalo', 'Miami', 14, 24),\n",
       " ('California', 'North Carolina', 35, 24),\n",
       " ('California', 'Weber State', 33, 20),\n",
       " ('California', 'Mississippi', 27, 16),\n",
       " ('California', 'Southern California', 20, 30),\n",
       " ('California', 'Oregon', 24, 45),\n",
       " ('California', 'Washington', 7, 38),\n",
       " ('California', 'Washington State', 37, 3),\n",
       " ('California', 'Arizona', 44, 45),\n",
       " ('Central Florida', 'Florida International', 61, 17),\n",
       " ('Central Florida', 'Maryland', 38, 10),\n",
       " ('Central Florida', 'Memphis', 40, 13),\n",
       " ('Central Florida', 'Cincinnati', 51, 23),\n",
       " ('Central Florida', 'East Carolina', 63, 21),\n",
       " ('Central Florida', 'Navy', 31, 21),\n",
       " ('Central Michigan', 'Rhode Island', 30, 27),\n",
       " ('Central Michigan', 'Kansas', 45, 27),\n",
       " ('Central Michigan', 'Syracuse', 17, 41),\n",
       " ('Central Michigan', 'Miami', 14, 31),\n",
       " ('Central Michigan', 'Boston College', 8, 28),\n",
       " ('Central Michigan', 'Ohio', 26, 23),\n",
       " ('Central Michigan', 'Toledo', 10, 30),\n",
       " ('Central Michigan', 'Ball State', 56, 9),\n",
       " ('Charlotte', 'Eastern Michigan', 7, 24),\n",
       " ('Charlotte', 'Kansas State', 7, 55),\n",
       " ('Charlotte', 'North Carolina A&T;', 31, 35),\n",
       " ('Charlotte', 'Florida International', 29, 30),\n",
       " ('Charlotte', 'Marshall', 3, 14),\n",
       " ('Charlotte', 'Western Kentucky', 14, 45),\n",
       " ('Charlotte', 'Alabama-Birmingham', 25, 24),\n",
       " ('Cincinnati', 'Austin Peay', 26, 14),\n",
       " ('Cincinnati', 'Michigan', 14, 36),\n",
       " ('Cincinnati', 'Miami', 21, 17),\n",
       " ('Cincinnati', 'Navy', 32, 42),\n",
       " ('Cincinnati', 'Marshall', 21, 38),\n",
       " ('Cincinnati', 'Central Florida', 23, 51),\n",
       " ('Cincinnati', 'South Florida', 3, 33),\n",
       " ('Cincinnati', 'Southern Methodist', 28, 31),\n",
       " ('Clemson', 'Kent', 56, 3),\n",
       " ('Clemson', 'Auburn', 14, 6),\n",
       " ('Clemson', 'Louisville', 47, 21),\n",
       " ('Clemson', 'Boston College', 34, 7),\n",
       " ('Clemson', 'Virginia Tech', 31, 17),\n",
       " ('Clemson', 'Wake Forest', 28, 14),\n",
       " ('Clemson', 'Syracuse', 24, 27),\n",
       " ('Coastal Carolina', 'Massachusetts', 38, 28),\n",
       " ('Coastal Carolina', 'Alabama-Birmingham', 23, 30),\n",
       " ('Coastal Carolina', 'Western Illinois', 10, 52),\n",
       " ('Coastal Carolina', 'Louisiana-Monroe', 43, 51),\n",
       " ('Coastal Carolina', 'Georgia State', 21, 27),\n",
       " ('Coastal Carolina', 'Arkansas State', 17, 51),\n",
       " ('Coastal Carolina', 'Appalachian State', 29, 37),\n",
       " ('Colorado', 'Colorado State', 17, 3),\n",
       " ('Colorado', 'Texas State', 37, 3),\n",
       " ('Colorado', 'Northern Colorado', 41, 21),\n",
       " ('Colorado', 'Washington', 10, 37),\n",
       " ('Colorado', 'UCLA', 23, 27),\n",
       " ('Colorado', 'Arizona', 42, 45),\n",
       " ('Colorado', 'Oregon State', 36, 33),\n",
       " ('Colorado State', 'Oregon State', 58, 27),\n",
       " ('Colorado State', 'Colorado', 3, 17),\n",
       " ('Colorado State', 'Abilene Christian', 38, 10),\n",
       " ('Colorado State', 'Alabama', 23, 41),\n",
       " ('Colorado State', 'Hawaii', 51, 21),\n",
       " ('Colorado State', 'Utah State', 27, 14),\n",
       " ('Colorado State', 'Nevada', 44, 42),\n",
       " ('Colorado State', 'New Mexico', 27, 24),\n",
       " ('Connecticut', 'Holy Cross', 27, 20),\n",
       " ('Connecticut', 'Virginia', 18, 38),\n",
       " ('Connecticut', 'East Carolina', 38, 41),\n",
       " ('Connecticut', 'Southern Methodist', 28, 49),\n",
       " ('Connecticut', 'Memphis', 31, 70),\n",
       " ('Connecticut', 'Temple', 28, 24),\n",
       " ('Connecticut', 'Tulsa', 20, 14),\n",
       " ('Duke', 'North Carolina Central', 60, 7),\n",
       " ('Duke', 'Northwestern', 41, 17),\n",
       " ('Duke', 'Baylor', 34, 20),\n",
       " ('Duke', 'North Carolina', 27, 17),\n",
       " ('Duke', 'Miami', 6, 31),\n",
       " ('Duke', 'Virginia', 21, 28),\n",
       " ('Duke', 'Florida State', 10, 17),\n",
       " ('Duke', 'Pittsburgh', 17, 24),\n",
       " ('East Carolina', 'James Madison', 14, 34),\n",
       " ('East Carolina', 'West Virginia', 20, 56),\n",
       " ('East Carolina', 'Virginia Tech', 17, 64),\n",
       " ('East Carolina', 'Connecticut', 41, 38),\n",
       " ('East Carolina', 'South Florida', 31, 61),\n",
       " ('East Carolina', 'Temple', 10, 34),\n",
       " ('East Carolina', 'Central Florida', 21, 63),\n",
       " ('East Carolina', 'Brigham Young', 33, 17),\n",
       " ('Eastern Michigan', 'Charlotte', 24, 7),\n",
       " ('Eastern Michigan', 'Rutgers', 16, 13),\n",
       " ('Eastern Michigan', 'Ohio', 20, 27),\n",
       " ('Eastern Michigan', 'Kentucky', 20, 24),\n",
       " ('Eastern Michigan', 'Toledo', 15, 20),\n",
       " ('Eastern Michigan', 'Army', 27, 28),\n",
       " ('Eastern Michigan', 'Western Michigan', 17, 20),\n",
       " ('Florida', 'Michigan', 17, 33),\n",
       " ('Florida', 'Tennessee', 26, 20),\n",
       " ('Florida', 'Kentucky', 28, 27),\n",
       " ('Florida', 'Vanderbilt', 38, 24),\n",
       " ('Florida', 'Louisiana State', 16, 17),\n",
       " ('Florida', 'Texas A&M;', 17, 19),\n",
       " ('Florida Atlantic', 'Navy', 19, 42),\n",
       " ('Florida Atlantic', 'Wisconsin', 14, 31),\n",
       " ('Florida Atlantic', 'Bethune-Cookman', 45, 0),\n",
       " ('Florida Atlantic', 'Buffalo', 31, 34),\n",
       " ('Florida Atlantic', 'Middle Tennessee State', 38, 20),\n",
       " ('Florida Atlantic', 'Old Dominion', 58, 28),\n",
       " ('Florida Atlantic', 'North Texas', 69, 31),\n",
       " ('Florida International', 'Central Florida', 17, 61),\n",
       " ('Florida International', 'Alcorn State', 17, 10),\n",
       " ('Florida International', 'Rice', 13, 7),\n",
       " ('Florida International', 'Charlotte', 30, 29),\n",
       " ('Florida International', 'Middle Tennessee State', 17, 37),\n",
       " ('Florida International', 'Tulane', 23, 10),\n",
       " ('Florida State', 'Alabama', 7, 24),\n",
       " ('Florida State', 'North Carolina State', 21, 27),\n",
       " ('Florida State', 'Wake Forest', 26, 19),\n",
       " ('Florida State', 'Miami', 20, 24),\n",
       " ('Florida State', 'Duke', 17, 10),\n",
       " ('Florida State', 'Louisville', 28, 31),\n",
       " ('Fresno State', 'Incarnate Word', 66, 0),\n",
       " ('Fresno State', 'Alabama', 10, 41),\n",
       " ('Fresno State', 'Washington', 16, 48),\n",
       " ('Fresno State', 'Nevada', 41, 21),\n",
       " ('Fresno State', 'San Jose State', 27, 10),\n",
       " ('Fresno State', 'New Mexico', 38, 0),\n",
       " ('Fresno State', 'San Diego State', 27, 3),\n",
       " ('Georgia', 'Appalachian State', 31, 10),\n",
       " ('Georgia', 'Notre Dame', 20, 19),\n",
       " ('Georgia', 'Samford', 42, 14),\n",
       " ('Georgia', 'Mississippi State', 31, 3),\n",
       " ('Georgia', 'Tennessee', 41, 0),\n",
       " ('Georgia', 'Vanderbilt', 45, 14),\n",
       " ('Georgia', 'Missouri', 53, 28),\n",
       " ('Georgia Southern', 'Auburn', 7, 41),\n",
       " ('Georgia Southern', 'New Hampshire', 12, 22),\n",
       " ('Georgia Southern', 'Indiana', 17, 52),\n",
       " ('Georgia Southern', 'Arkansas State', 25, 43),\n",
       " ('Georgia Southern', 'New Mexico State', 27, 35),\n",
       " ('Georgia Southern', 'Massachusetts', 20, 55),\n",
       " ('Georgia State', 'Tennessee State', 10, 17),\n",
       " ('Georgia State', 'Charlotte', 28, 0),\n",
       " ('Georgia State', 'Coastal Carolina', 27, 21),\n",
       " ('Georgia State', 'Louisiana-Monroe', 47, 37),\n",
       " ('Georgia State', 'Troy', 10, 34),\n",
       " ('Georgia Tech', 'Tennessee', 41, 42),\n",
       " ('Georgia Tech', 'Jacksonville State', 37, 10),\n",
       " ('Georgia Tech', 'Pittsburgh', 35, 17),\n",
       " ('Georgia Tech', 'North Carolina', 33, 7),\n",
       " ('Georgia Tech', 'Miami', 24, 25),\n",
       " ('Georgia Tech', 'Wake Forest', 38, 24),\n",
       " ('Hawaii', 'Massachusetts', 38, 35),\n",
       " ('Hawaii', 'Western Carolina', 41, 18),\n",
       " ('Hawaii', 'UCLA', 23, 56),\n",
       " ('Hawaii', 'Wyoming', 21, 28),\n",
       " ('Hawaii', 'Colorado State', 21, 51),\n",
       " ('Hawaii', 'Nevada', 21, 35),\n",
       " ('Hawaii', 'San Jose State', 37, 26),\n",
       " ('Houston', 'Arizona', 19, 16),\n",
       " ('Houston', 'Rice', 38, 3),\n",
       " ('Houston', 'Texas Tech', 24, 27),\n",
       " ('Houston', 'Temple', 20, 13),\n",
       " ('Houston', 'Southern Methodist', 35, 22),\n",
       " ('Houston', 'Tulsa', 17, 45),\n",
       " ('Houston', 'Memphis', 38, 42),\n",
       " ('Idaho', 'Sacramento State', 28, 6),\n",
       " ('Idaho', 'Nevada-Las Vegas', 16, 44),\n",
       " ('Idaho', 'Western Michigan', 28, 37),\n",
       " ('Idaho', 'South Alabama', 29, 23),\n",
       " ('Idaho', 'Louisiana-Lafayette', 16, 21),\n",
       " ('Idaho', 'Appalachian State', 20, 23),\n",
       " ('Idaho', 'Missouri', 21, 68),\n",
       " ('Illinois', 'Ball State', 24, 21),\n",
       " ('Illinois', 'Western Kentucky', 20, 7),\n",
       " ('Illinois', 'South Florida', 23, 47),\n",
       " ('Illinois', 'Nebraska', 6, 28),\n",
       " ('Illinois', 'Iowa', 16, 45),\n",
       " ('Illinois', 'Rutgers', 24, 35),\n",
       " ('Illinois', 'Minnesota', 17, 24),\n",
       " ('Indiana', 'Ohio State', 21, 49),\n",
       " ('Indiana', 'Virginia', 34, 17),\n",
       " ('Indiana', 'Georgia Southern', 52, 17),\n",
       " ('Indiana', 'Penn State', 14, 45),\n",
       " ('Indiana', 'Charleston Southern', 27, 0),\n",
       " ('Indiana', 'Michigan', 20, 27),\n",
       " ('Indiana', 'Michigan State', 9, 17),\n",
       " ('Iowa', 'Wyoming', 24, 3),\n",
       " ('Iowa', 'Iowa State', 44, 41),\n",
       " ('Iowa', 'North Texas', 31, 14),\n",
       " ('Iowa', 'Penn State', 19, 21),\n",
       " ('Iowa', 'Michigan State', 10, 17),\n",
       " ('Iowa', 'Illinois', 45, 16),\n",
       " ('Iowa', 'Northwestern', 10, 17),\n",
       " ('Iowa State', 'Northern Iowa', 42, 24),\n",
       " ('Iowa State', 'Iowa', 41, 44),\n",
       " ('Iowa State', 'Akron', 41, 14),\n",
       " ('Iowa State', 'Texas', 7, 17),\n",
       " ('Iowa State', 'Oklahoma', 38, 31),\n",
       " ('Iowa State', 'Kansas', 45, 0),\n",
       " ('Iowa State', 'Texas Tech', 31, 13),\n",
       " ('Kansas', 'Southeast Missouri State', 38, 16),\n",
       " ('Kansas', 'Central Michigan', 27, 45),\n",
       " ('Kansas', 'Ohio', 30, 42),\n",
       " ('Kansas', 'West Virginia', 34, 56),\n",
       " ('Kansas', 'Texas Tech', 19, 65),\n",
       " ('Kansas State', 'Central Arkansas', 55, 19),\n",
       " ('Kansas State', 'Charlotte', 55, 7),\n",
       " ('Kansas State', 'Vanderbilt', 7, 14),\n",
       " ('Kansas State', 'Baylor', 33, 20),\n",
       " ('Kansas State', 'Texas', 34, 40),\n",
       " ('Kansas State', 'Texas Christian', 6, 26),\n",
       " ('Kansas State', 'Oklahoma', 35, 42),\n",
       " ('Kent', 'Clemson', 3, 56),\n",
       " ('Kent', 'Howard', 38, 31),\n",
       " ('Kent', 'Louisville', 3, 42),\n",
       " ('Kent', 'Buffalo', 13, 27),\n",
       " ('Kent', 'Northern Illinois', 3, 24),\n",
       " ('Kent', 'Miami', 17, 14),\n",
       " ('Kent', 'Ohio', 3, 48),\n",
       " ('Kentucky', 'Southern Mississippi', 24, 17),\n",
       " ('Kentucky', 'Eastern Kentucky', 27, 16),\n",
       " ('Kentucky', 'South Carolina', 23, 13),\n",
       " ('Kentucky', 'Florida', 27, 28),\n",
       " ('Kentucky', 'Eastern Michigan', 24, 20),\n",
       " ('Kentucky', 'Missouri', 40, 34),\n",
       " ('Kentucky', 'Mississippi State', 7, 45),\n",
       " ('Louisiana State', 'Brigham Young', 27, 0),\n",
       " ('Louisiana State', 'Tennessee-Chattanooga', 45, 10),\n",
       " ('Louisiana State', 'Mississippi State', 7, 37),\n",
       " ('Louisiana State', 'Syracuse', 35, 26),\n",
       " ('Louisiana State', 'Troy', 21, 24),\n",
       " ('Louisiana State', 'Florida', 17, 16),\n",
       " ('Louisiana State', 'Auburn', 27, 23),\n",
       " ('Louisiana State', 'Mississippi', 40, 24),\n",
       " ('Louisiana Tech', 'Northwestern State', 52, 24),\n",
       " ('Louisiana Tech', 'Mississippi State', 21, 57),\n",
       " ('Louisiana Tech', 'Western Kentucky', 23, 22),\n",
       " ('Louisiana Tech', 'South Carolina', 16, 17),\n",
       " ('Louisiana Tech', 'South Alabama', 34, 16),\n",
       " ('Louisiana Tech', 'Alabama-Birmingham', 22, 23),\n",
       " ('Louisiana Tech', 'Southern Mississippi', 27, 34),\n",
       " ('Louisiana-Lafayette', 'Southeastern Louisiana', 51, 48),\n",
       " ('Louisiana-Lafayette', 'Tulsa', 42, 66),\n",
       " ('Louisiana-Lafayette', 'Texas A&M;', 21, 45),\n",
       " ('Louisiana-Lafayette', 'Louisiana-Monroe', 50, 56),\n",
       " ('Louisiana-Lafayette', 'Idaho', 21, 16),\n",
       " ('Louisiana-Lafayette', 'Texas State', 24, 7),\n",
       " ('Louisiana-Lafayette', 'Arkansas State', 3, 47),\n",
       " ('Louisiana-Monroe', 'Memphis', 29, 37),\n",
       " ('Louisiana-Monroe', 'Southern Mississippi', 17, 28),\n",
       " ('Louisiana-Monroe', 'Louisiana-Lafayette', 56, 50),\n",
       " ('Louisiana-Monroe', 'Coastal Carolina', 51, 43),\n",
       " ('Louisiana-Monroe', 'Texas State', 45, 27),\n",
       " ('Louisiana-Monroe', 'Georgia State', 37, 47),\n",
       " ('Louisiana-Monroe', 'South Alabama', 23, 33),\n",
       " ('Louisville', 'Purdue', 35, 28),\n",
       " ('Louisville', 'North Carolina', 47, 35),\n",
       " ('Louisville', 'Clemson', 21, 47),\n",
       " ('Louisville', 'Kent', 42, 3),\n",
       " ('Louisville', 'Murray State', 55, 10),\n",
       " ('Louisville', 'North Carolina State', 25, 39),\n",
       " ('Louisville', 'Boston College', 42, 45),\n",
       " ('Louisville', 'Florida State', 31, 28),\n",
       " ('Marshall', 'Miami', 31, 26),\n",
       " ('Marshall', 'North Carolina State', 20, 37),\n",
       " ('Marshall', 'Kent', 21, 0),\n",
       " ('Marshall', 'Cincinnati', 38, 21),\n",
       " ('Marshall', 'Charlotte', 14, 3),\n",
       " ('Marshall', 'Old Dominion', 35, 3),\n",
       " ('Marshall', 'Middle Tennessee State', 38, 10),\n",
       " ('Maryland', 'Texas', 51, 41),\n",
       " ('Maryland', 'Towson', 63, 17),\n",
       " ('Maryland', 'Central Florida', 10, 38),\n",
       " ('Maryland', 'Minnesota', 31, 24),\n",
       " ('Maryland', 'Ohio State', 14, 62),\n",
       " ('Maryland', 'Northwestern', 21, 37),\n",
       " ('Maryland', 'Wisconsin', 13, 38),\n",
       " ('Massachusetts', 'Hawaii', 35, 38),\n",
       " ('Massachusetts', 'Coastal Carolina', 28, 38),\n",
       " ('Massachusetts', 'Old Dominion', 7, 17),\n",
       " ('Massachusetts', 'Temple', 21, 29),\n",
       " ('Massachusetts', 'Tennessee', 13, 17),\n",
       " ('Massachusetts', 'Ohio', 50, 58),\n",
       " ('Massachusetts', 'Georgia Southern', 55, 20),\n",
       " ('Memphis', 'Louisiana-Monroe', 37, 29),\n",
       " ('Memphis', 'UCLA', 48, 45),\n",
       " ('Memphis', 'Southern Illinois', 44, 31),\n",
       " ('Memphis', 'Central Florida', 13, 40),\n",
       " ('Memphis', 'Connecticut', 70, 31),\n",
       " ('Memphis', 'Navy', 30, 27),\n",
       " ('Memphis', 'Houston', 42, 38),\n",
       " ('Miami (Florida)', 'Bethune-Cookman', 41, 13),\n",
       " ('Miami (Florida)', 'Toledo', 52, 30),\n",
       " ('Miami (Florida)', 'Duke', 31, 6),\n",
       " ('Miami (Florida)', 'Florida State', 24, 20),\n",
       " ('Miami (Florida)', 'Georgia Tech', 25, 24),\n",
       " ('Miami (Florida)', 'Syracuse', 27, 19),\n",
       " ('Miami (Ohio)', 'Marshall', 26, 31),\n",
       " ('Miami (Ohio)', 'Austin Peay', 31, 10),\n",
       " ('Miami (Ohio)', 'Cincinnati', 17, 21),\n",
       " ('Miami (Ohio)', 'Central Michigan', 31, 14),\n",
       " ('Miami (Ohio)', 'Notre Dame', 17, 52),\n",
       " ('Miami (Ohio)', 'Bowling Green State', 29, 37),\n",
       " ('Miami (Ohio)', 'Kent', 14, 17),\n",
       " ('Miami (Ohio)', 'Buffalo', 24, 14),\n",
       " ('Michigan', 'Florida', 33, 17),\n",
       " ('Michigan', 'Cincinnati', 36, 14),\n",
       " ('Michigan', 'Air Force', 29, 13),\n",
       " ('Michigan', 'Purdue', 28, 10),\n",
       " ('Michigan', 'Michigan State', 10, 14),\n",
       " ('Michigan', 'Indiana', 27, 20),\n",
       " ('Michigan', 'Penn State', 13, 42),\n",
       " ('Michigan State', 'Bowling Green State', 35, 10),\n",
       " ('Michigan State', 'Western Michigan', 28, 14),\n",
       " ('Michigan State', 'Notre Dame', 18, 38),\n",
       " ('Michigan State', 'Iowa', 17, 10),\n",
       " ('Michigan State', 'Michigan', 14, 10),\n",
       " ('Michigan State', 'Minnesota', 30, 27),\n",
       " ('Michigan State', 'Indiana', 17, 9),\n",
       " ('Middle Tennessee State', 'Vanderbilt', 6, 28),\n",
       " ('Middle Tennessee State', 'Syracuse', 30, 23),\n",
       " ('Middle Tennessee State', 'Minnesota', 3, 34),\n",
       " ('Middle Tennessee State', 'Bowling Green State', 24, 13),\n",
       " ('Middle Tennessee State', 'Florida Atlantic', 20, 38),\n",
       " ('Middle Tennessee State', 'Florida International', 37, 17),\n",
       " ('Middle Tennessee State', 'Alabama-Birmingham', 23, 25),\n",
       " ('Middle Tennessee State', 'Marshall', 10, 38),\n",
       " ('Minnesota', 'Buffalo', 17, 7),\n",
       " ('Minnesota', 'Oregon State', 48, 14),\n",
       " ('Minnesota', 'Middle Tennessee State', 34, 3),\n",
       " ('Minnesota', 'Maryland', 24, 31),\n",
       " ('Minnesota', 'Purdue', 17, 31),\n",
       " ('Minnesota', 'Michigan State', 27, 30),\n",
       " ('Minnesota', 'Illinois', 24, 17),\n",
       " ('Mississippi', 'South Alabama', 47, 27),\n",
       " ('Mississippi', 'Tennessee-Martin', 45, 23),\n",
       " ('Mississippi', 'California', 16, 27),\n",
       " ('Mississippi', 'Alabama', 3, 66),\n",
       " ('Mississippi', 'Auburn', 23, 44),\n",
       " ('Mississippi', 'Vanderbilt', 57, 35),\n",
       " ('Mississippi', 'Louisiana State', 24, 40),\n",
       " ('Mississippi State', 'Charleston Southern', 49, 0),\n",
       " ('Mississippi State', 'Louisiana Tech', 57, 21),\n",
       " ('Mississippi State', 'Louisiana State', 37, 7),\n",
       " ('Mississippi State', 'Georgia', 3, 31),\n",
       " ('Mississippi State', 'Auburn', 10, 49),\n",
       " ('Mississippi State', 'Brigham Young', 35, 10),\n",
       " ('Mississippi State', 'Kentucky', 45, 7),\n",
       " ('Missouri', 'Missouri State', 72, 43),\n",
       " ('Missouri', 'South Carolina', 13, 31),\n",
       " ('Missouri', 'Purdue', 3, 35),\n",
       " ('Missouri', 'Auburn', 14, 51),\n",
       " ('Missouri', 'Kentucky', 34, 40),\n",
       " ('Missouri', 'Georgia', 28, 53),\n",
       " ('Missouri', 'Idaho', 68, 21),\n",
       " ('Navy', 'Florida Atlantic', 42, 19),\n",
       " ('Navy', 'Tulane', 23, 21),\n",
       " ('Navy', 'Cincinnati', 42, 32),\n",
       " ('Navy', 'Tulsa', 31, 21),\n",
       " ('Navy', 'Air Force', 48, 45),\n",
       " ('Navy', 'Memphis', 27, 30),\n",
       " ('Navy', 'Central Florida', 21, 31),\n",
       " ('Nebraska', 'Arkansas State', 43, 36),\n",
       " ('Nebraska', 'Oregon', 35, 42),\n",
       " ('Nebraska', 'Northern Illinois', 17, 21),\n",
       " ('Nebraska', 'Rutgers', 27, 17),\n",
       " ('Nebraska', 'Illinois', 28, 6),\n",
       " ('Nebraska', 'Wisconsin', 17, 38),\n",
       " ('Nebraska', 'Ohio State', 14, 56),\n",
       " ('Nevada', 'Northwestern', 20, 31),\n",
       " ('Nevada', 'Toledo', 24, 37),\n",
       " ('Nevada', 'Idaho State', 28, 30),\n",
       " ('Nevada', 'Washington State', 7, 45),\n",
       " ('Nevada', 'Fresno State', 21, 41),\n",
       " ('Nevada', 'Hawaii', 35, 21),\n",
       " ('Nevada', 'Colorado State', 42, 44),\n",
       " ('Nevada', 'Air Force', 42, 45),\n",
       " ('Nevada-Las Vegas', 'Howard', 40, 43),\n",
       " ('Nevada-Las Vegas', 'Idaho', 44, 16),\n",
       " ('Nevada-Las Vegas', 'Ohio State', 21, 54),\n",
       " ('Nevada-Las Vegas', 'San Jose State', 41, 13),\n",
       " ('Nevada-Las Vegas', 'San Diego State', 10, 41),\n",
       " ('Nevada-Las Vegas', 'Air Force', 30, 34),\n",
       " ('Nevada-Las Vegas', 'Utah State', 28, 52),\n",
       " ('New Mexico', 'Abilene Christian', 38, 14),\n",
       " ('New Mexico', 'New Mexico State', 28, 30),\n",
       " ('New Mexico', 'Boise State', 14, 28),\n",
       " ('New Mexico', 'Tulsa', 16, 13),\n",
       " ('New Mexico', 'Air Force', 56, 38),\n",
       " ('New Mexico', 'Colorado State', 24, 27),\n",
       " ('New Mexico State', 'Arizona State', 31, 37),\n",
       " ('New Mexico State', 'New Mexico', 30, 28),\n",
       " ('New Mexico State', 'Troy', 24, 27),\n",
       " ('New Mexico State', 'Texas-El Paso', 41, 14),\n",
       " ('New Mexico State', 'Arkansas', 24, 42),\n",
       " ('New Mexico State', 'Appalachian State', 31, 45),\n",
       " ('New Mexico State', 'Georgia Southern', 35, 27),\n",
       " ('North Carolina', 'California', 24, 35),\n",
       " ('North Carolina', 'Louisville', 35, 47),\n",
       " ('North Carolina', 'Old Dominion', 53, 23),\n",
       " ('North Carolina', 'Duke', 17, 27),\n",
       " ('North Carolina', 'Georgia Tech', 7, 33),\n",
       " ('North Carolina', 'Notre Dame', 10, 33),\n",
       " ('North Carolina', 'Virginia', 14, 20),\n",
       " ('North Carolina', 'Virginia Tech', 7, 59),\n",
       " ('North Carolina State', 'South Carolina', 28, 35),\n",
       " ('North Carolina State', 'Marshall', 37, 20),\n",
       " ('North Carolina State', 'Furman', 49, 16),\n",
       " ('North Carolina State', 'Florida State', 27, 21),\n",
       " ('North Carolina State', 'Syracuse', 33, 25),\n",
       " ('North Carolina State', 'Louisville', 39, 25),\n",
       " ('North Carolina State', 'Pittsburgh', 35, 17),\n",
       " ('North Texas', 'Lamar', 59, 14),\n",
       " ('North Texas', 'Southern Methodist', 32, 54),\n",
       " ('North Texas', 'Iowa', 14, 31),\n",
       " ('North Texas', 'Alabama-Birmingham', 46, 43),\n",
       " ('North Texas', 'Southern Mississippi', 43, 28),\n",
       " ('North Texas', 'Texas-San Antonio', 29, 26),\n",
       " ('North Texas', 'Florida Atlantic', 31, 69),\n",
       " ('Northern Illinois', 'Boston College', 20, 23),\n",
       " ('Northern Illinois', 'Eastern Illinois', 38, 10),\n",
       " ('Northern Illinois', 'Nebraska', 21, 17),\n",
       " ('Northern Illinois', 'San Diego State', 28, 34),\n",
       " ('Northern Illinois', 'Kent', 24, 3),\n",
       " ('Northern Illinois', 'Buffalo', 14, 13),\n",
       " ('Northern Illinois', 'Bowling Green State', 48, 17),\n",
       " ('Northwestern', 'Nevada', 31, 20),\n",
       " ('Northwestern', 'Duke', 17, 41),\n",
       " ('Northwestern', 'Bowling Green State', 49, 7),\n",
       " ('Northwestern', 'Wisconsin', 24, 33),\n",
       " ('Northwestern', 'Penn State', 7, 31),\n",
       " ('Northwestern', 'Maryland', 37, 21),\n",
       " ('Northwestern', 'Iowa', 17, 10),\n",
       " ('Notre Dame', 'Temple', 49, 16),\n",
       " ('Notre Dame', 'Georgia', 19, 20),\n",
       " ('Notre Dame', 'Boston College', 49, 20),\n",
       " ('Notre Dame', 'Michigan State', 38, 18),\n",
       " ('Notre Dame', 'Miami', 52, 17),\n",
       " ('Notre Dame', 'North Carolina', 33, 10),\n",
       " ('Notre Dame', 'Southern California', 49, 14),\n",
       " ('Ohio', 'Hampton', 59, 0),\n",
       " ('Ohio', 'Purdue', 21, 44),\n",
       " ('Ohio', 'Kansas', 42, 30),\n",
       " ('Ohio', 'Eastern Michigan', 27, 20),\n",
       " ('Ohio', 'Massachusetts', 58, 50),\n",
       " ('Ohio', 'Central Michigan', 23, 26),\n",
       " ('Ohio', 'Bowling Green State', 48, 30),\n",
       " ('Ohio', 'Kent', 48, 3),\n",
       " ('Ohio State', 'Indiana', 49, 21),\n",
       " ('Ohio State', 'Oklahoma', 16, 31),\n",
       " ('Ohio State', 'Army', 38, 7),\n",
       " ('Ohio State', 'Nevada-Las Vegas', 54, 21),\n",
       " ('Ohio State', 'Rutgers', 56, 0),\n",
       " ('Ohio State', 'Maryland', 62, 14),\n",
       " ('Ohio State', 'Nebraska', 56, 14),\n",
       " ('Oklahoma', 'Texas-El Paso', 56, 7),\n",
       " ('Oklahoma', 'Ohio State', 31, 16),\n",
       " ('Oklahoma', 'Tulane', 56, 14),\n",
       " ('Oklahoma', 'Baylor', 49, 41),\n",
       " ('Oklahoma', 'Iowa State', 31, 38),\n",
       " ('Oklahoma', 'Texas', 29, 24),\n",
       " ('Oklahoma', 'Kansas State', 42, 35),\n",
       " ('Oklahoma State', 'Tulsa', 59, 24),\n",
       " ('Oklahoma State', 'South Alabama', 44, 7),\n",
       " ('Oklahoma State', 'Pittsburgh', 59, 21),\n",
       " ('Oklahoma State', 'Texas Christian', 31, 44),\n",
       " ('Oklahoma State', 'Texas Tech', 41, 34),\n",
       " ('Oklahoma State', 'Baylor', 59, 16),\n",
       " ('Oklahoma State', 'Texas', 13, 10),\n",
       " ('Old Dominion', 'Albany', 31, 17),\n",
       " ('Old Dominion', 'Massachusetts', 17, 7),\n",
       " ('Old Dominion', 'North Carolina', 23, 53),\n",
       " ('Old Dominion', 'Florida Atlantic', 28, 58),\n",
       " ('Old Dominion', 'Marshall', 3, 35),\n",
       " ('Old Dominion', 'Western Kentucky', 31, 35),\n",
       " ('Oregon', 'Southern Utah', 77, 21),\n",
       " ('Oregon', 'Nebraska', 42, 35),\n",
       " ('Oregon', 'Wyoming', 49, 13),\n",
       " ('Oregon', 'Arizona State', 35, 37),\n",
       " ('Oregon', 'California', 45, 24),\n",
       " ('Oregon', 'Washington State', 10, 33),\n",
       " ('Oregon', 'Stanford', 7, 49),\n",
       " ('Oregon', 'UCLA', 14, 31),\n",
       " ('Oregon State', 'Colorado State', 27, 58),\n",
       " ('Oregon State', 'Portland State', 35, 32),\n",
       " ('Oregon State', 'Minnesota', 14, 48),\n",
       " ('Oregon State', 'Washington State', 23, 52),\n",
       " ('Oregon State', 'Washington', 7, 42),\n",
       " ('Oregon State', 'Southern California', 10, 38),\n",
       " ('Oregon State', 'Colorado', 33, 36),\n",
       " ('Penn State', 'Akron', 52, 0),\n",
       " ('Penn State', 'Pittsburgh', 33, 14),\n",
       " ('Penn State', 'Georgia State', 56, 0),\n",
       " ('Penn State', 'Iowa', 21, 19),\n",
       " ('Penn State', 'Indiana', 45, 14),\n",
       " ('Penn State', 'Northwestern', 31, 7),\n",
       " ('Penn State', 'Michigan', 42, 13),\n",
       " ('Pittsburgh', 'Youngstown State', 28, 21),\n",
       " ('Pittsburgh', 'Penn State', 14, 33),\n",
       " ('Pittsburgh', 'Oklahoma State', 21, 59),\n",
       " ('Pittsburgh', 'Georgia Tech', 17, 35),\n",
       " ('Pittsburgh', 'Rice', 42, 10),\n",
       " ('Pittsburgh', 'Syracuse', 24, 27),\n",
       " ('Pittsburgh', 'North Carolina State', 17, 35),\n",
       " ('Pittsburgh', 'Duke', 24, 17),\n",
       " ('Purdue', 'Louisville', 28, 35),\n",
       " ('Purdue', 'Ohio', 44, 21),\n",
       " ('Purdue', 'Missouri', 35, 3),\n",
       " ('Purdue', 'Michigan', 10, 28),\n",
       " ('Purdue', 'Minnesota', 31, 17),\n",
       " ('Purdue', 'Wisconsin', 9, 17),\n",
       " ('Purdue', 'Rutgers', 12, 14),\n",
       " ('Rice', 'Stanford', 7, 62),\n",
       " ('Rice', 'Texas-El Paso', 31, 14),\n",
       " ('Rice', 'Houston', 3, 38),\n",
       " ('Rice', 'Florida International', 7, 13),\n",
       " ('Rice', 'Pittsburgh', 10, 42),\n",
       " ('Rice', 'Army', 12, 49),\n",
       " ('Rice', 'Texas-San Antonio', 7, 20),\n",
       " ('Rutgers', 'Washington', 14, 30),\n",
       " ('Rutgers', 'Eastern Michigan', 13, 16),\n",
       " ('Rutgers', 'Morgan State', 65, 0),\n",
       " ('Rutgers', 'Nebraska', 17, 27),\n",
       " ('Rutgers', 'Illinois', 35, 24),\n",
       " ('Rutgers', 'Purdue', 14, 12),\n",
       " ('San Diego State', 'California-Davis', 38, 17),\n",
       " ('San Diego State', 'Arizona State', 30, 20),\n",
       " ('San Diego State', 'Stanford', 20, 17),\n",
       " ('San Diego State', 'Air Force', 28, 24),\n",
       " ('San Diego State', 'Northern Illinois', 34, 28),\n",
       " ('San Diego State', 'Nevada-Las Vegas', 41, 10),\n",
       " ('San Diego State', 'Boise State', 14, 31),\n",
       " ('San Diego State', 'Fresno State', 3, 27),\n",
       " ('San Jose State', 'South Florida', 22, 42),\n",
       " ('San Jose State', 'Cal Poly', 34, 13),\n",
       " ('San Jose State', 'Utah', 16, 54),\n",
       " ('San Jose State', 'Utah State', 10, 61),\n",
       " ('San Jose State', 'Nevada-Las Vegas', 13, 41),\n",
       " ('San Jose State', 'Fresno State', 10, 27),\n",
       " ('San Jose State', 'Hawaii', 26, 37),\n",
       " ('South Alabama', 'Mississippi', 27, 47),\n",
       " ('South Alabama', 'Oklahoma State', 7, 44),\n",
       " ('South Alabama', 'Alabama A&M;', 45, 0),\n",
       " ('South Alabama', 'Idaho', 23, 29),\n",
       " ('South Alabama', 'Louisiana Tech', 16, 34),\n",
       " ('South Alabama', 'Troy', 19, 8),\n",
       " ('South Alabama', 'Louisiana-Monroe', 33, 23),\n",
       " ('South Carolina', 'North Carolina State', 35, 28),\n",
       " ('South Carolina', 'Missouri', 31, 13),\n",
       " ('South Carolina', 'Kentucky', 13, 23),\n",
       " ('South Carolina', 'Louisiana Tech', 17, 16),\n",
       " ('South Carolina', 'Texas A&M;', 17, 24),\n",
       " ('South Carolina', 'Arkansas', 48, 22),\n",
       " ('South Carolina', 'Tennessee', 15, 9),\n",
       " ('South Florida', 'San Jose State', 42, 22),\n",
       " ('South Florida', 'Stony Brook', 31, 17),\n",
       " ('South Florida', 'Illinois', 47, 23),\n",
       " ('South Florida', 'Temple', 43, 7),\n",
       " ('South Florida', 'East Carolina', 61, 31),\n",
       " ('South Florida', 'Cincinnati', 33, 3),\n",
       " ('South Florida', 'Tulane', 34, 28),\n",
       " ('Southern California', 'Western Michigan', 49, 31),\n",
       " ('Southern California', 'Stanford', 42, 24),\n",
       " ('Southern California', 'Texas', 27, 24),\n",
       " ('Southern California', 'California', 30, 20),\n",
       " ('Southern California', 'Washington State', 27, 30),\n",
       " ('Southern California', 'Oregon State', 38, 10),\n",
       " ('Southern California', 'Utah', 28, 27),\n",
       " ('Southern California', 'Notre Dame', 14, 49),\n",
       " ('Southern Methodist', 'Stephen F. Austin', 58, 14),\n",
       " ('Southern Methodist', 'North Texas', 54, 32),\n",
       " ('Southern Methodist', 'Texas Christian', 36, 56),\n",
       " ('Southern Methodist', 'Arkansas State', 44, 21),\n",
       " ('Southern Methodist', 'Connecticut', 49, 28),\n",
       " ('Southern Methodist', 'Houston', 22, 35),\n",
       " ('Southern Methodist', 'Cincinnati', 31, 28),\n",
       " ('Southern Mississippi', 'Kentucky', 17, 24),\n",
       " ('Southern Mississippi', 'Southern', 45, 0),\n",
       " ('Southern Mississippi', 'Louisiana-Monroe', 28, 17),\n",
       " ('Southern Mississippi', 'North Texas', 28, 43),\n",
       " ('Southern Mississippi', 'Texas-San Antonio', 31, 29),\n",
       " ('Southern Mississippi', 'Texas-El Paso', 24, 0),\n",
       " ('Southern Mississippi', 'Louisiana Tech', 34, 27),\n",
       " ('Stanford', 'Rice', 62, 7),\n",
       " ('Stanford', 'Southern California', 24, 42),\n",
       " ('Stanford', 'San Diego State', 17, 20),\n",
       " ('Stanford', 'UCLA', 58, 34),\n",
       " ('Stanford', 'Arizona State', 34, 24),\n",
       " ('Stanford', 'Utah', 23, 20),\n",
       " ('Stanford', 'Oregon', 49, 7),\n",
       " ('Syracuse', 'Central Connecticut State', 50, 7),\n",
       " ('Syracuse', 'Middle Tennessee State', 23, 30),\n",
       " ('Syracuse', 'Central Michigan', 41, 17),\n",
       " ('Syracuse', 'Louisiana State', 26, 35),\n",
       " ('Syracuse', 'North Carolina State', 25, 33),\n",
       " ('Syracuse', 'Pittsburgh', 27, 24),\n",
       " ('Syracuse', 'Clemson', 27, 24),\n",
       " ('Syracuse', 'Miami', 19, 27),\n",
       " ('Temple', 'Notre Dame', 16, 49),\n",
       " ('Temple', 'Villanova', 16, 13),\n",
       " ('Temple', 'Massachusetts', 29, 21),\n",
       " ('Temple', 'South Florida', 7, 43),\n",
       " ('Temple', 'Houston', 13, 20),\n",
       " ('Temple', 'East Carolina', 34, 10),\n",
       " ('Temple', 'Connecticut', 24, 28),\n",
       " ('Temple', 'Army', 28, 31),\n",
       " ('Tennessee', 'Georgia Tech', 42, 41),\n",
       " ('Tennessee', 'Indiana State', 42, 7),\n",
       " ('Tennessee', 'Florida', 20, 26),\n",
       " ('Tennessee', 'Massachusetts', 17, 13),\n",
       " ('Tennessee', 'South Carolina', 9, 15),\n",
       " ('Tennessee', 'Alabama', 7, 45),\n",
       " ('Texas', 'Maryland', 41, 51),\n",
       " ('Texas', 'San Jose State', 56, 0),\n",
       " ('Texas', 'Southern California', 24, 27),\n",
       " ('Texas', 'Iowa State', 17, 7),\n",
       " ('Texas', 'Kansas State', 40, 34),\n",
       " ('Texas', 'Oklahoma', 24, 29),\n",
       " ('Texas', 'Oklahoma State', 10, 13),\n",
       " ('Texas A&M;', 'UCLA', 44, 45),\n",
       " ('Texas A&M;', 'Nicholls State', 24, 14),\n",
       " ('Texas A&M;', 'Louisiana-Lafayette', 45, 21),\n",
       " ('Texas A&M;', 'Arkansas', 50, 43),\n",
       " ('Texas A&M;', 'South Carolina', 24, 17),\n",
       " ('Texas A&M;', 'Alabama', 19, 27),\n",
       " ('Texas A&M;', 'Florida', 19, 17),\n",
       " ('Texas Christian', 'Jackson State', 63, 0),\n",
       " ('Texas Christian', 'Arkansas', 28, 7),\n",
       " ('Texas Christian', 'Southern Methodist', 56, 36),\n",
       " ('Texas Christian', 'Oklahoma State', 44, 31),\n",
       " ('Texas Christian', 'West Virginia', 31, 24),\n",
       " ('Texas Christian', 'Kansas State', 26, 6),\n",
       " ('Texas Christian', 'Kansas', 43, 0),\n",
       " ('Texas State', 'Houston Baptist', 20, 11),\n",
       " ('Texas State', 'Colorado', 3, 37),\n",
       " ('Texas State', 'Appalachian State', 13, 20),\n",
       " ('Texas State', 'Texas-San Antonio', 14, 44),\n",
       " ('Texas State', 'Wyoming', 10, 45),\n",
       " ('Texas State', 'Louisiana-Monroe', 27, 45),\n",
       " ('Texas State', 'Louisiana-Lafayette', 7, 24),\n",
       " ('Texas Tech', 'Eastern Washington', 56, 10),\n",
       " ('Texas Tech', 'Arizona State', 52, 45),\n",
       " ('Texas Tech', 'Houston', 27, 24),\n",
       " ('Texas Tech', 'Oklahoma State', 34, 41),\n",
       " ('Texas Tech', 'Kansas', 65, 19),\n",
       " ('Texas Tech', 'West Virginia', 35, 46),\n",
       " ('Texas Tech', 'Iowa State', 13, 31),\n",
       " ('Texas-El Paso', 'Oklahoma', 7, 56),\n",
       " ('Texas-El Paso', 'Rice', 14, 31),\n",
       " ('Texas-El Paso', 'Arizona', 16, 63),\n",
       " ('Texas-El Paso', 'New Mexico State', 14, 41),\n",
       " ('Texas-El Paso', 'Army', 21, 35),\n",
       " ('Texas-El Paso', 'Western Kentucky', 14, 15),\n",
       " ('Texas-San Antonio', 'Baylor', 17, 10),\n",
       " ('Texas-San Antonio', 'Southern', 51, 17),\n",
       " ('Texas-San Antonio', 'Texas State', 44, 14),\n",
       " ('Texas-San Antonio', 'Southern Mississippi', 29, 31),\n",
       " ('Texas-San Antonio', 'North Texas', 26, 29),\n",
       " ('Texas-San Antonio', 'Rice', 20, 7),\n",
       " ('Toledo', 'Elon', 47, 13),\n",
       " ('Toledo', 'Nevada', 37, 24),\n",
       " ('Toledo', 'Tulsa', 54, 51),\n",
       " ('Toledo', 'Miami', 30, 52),\n",
       " ('Toledo', 'Eastern Michigan', 20, 15),\n",
       " ('Toledo', 'Central Michigan', 30, 10),\n",
       " ('Toledo', 'Akron', 48, 21),\n",
       " ('Troy', 'Boise State', 13, 24),\n",
       " ('Troy', 'Alabama State', 34, 7),\n",
       " ('Troy', 'New Mexico State', 27, 24),\n",
       " ('Troy', 'Akron', 22, 17),\n",
       " ('Troy', 'Louisiana State', 24, 21),\n",
       " ('Troy', 'South Alabama', 8, 19),\n",
       " ('Troy', 'Georgia State', 34, 10),\n",
       " ('Tulane', 'Grambling State', 43, 14),\n",
       " ('Tulane', 'Navy', 21, 23),\n",
       " ('Tulane', 'Oklahoma', 14, 56),\n",
       " ('Tulane', 'Army', 21, 17),\n",
       " ('Tulane', 'Tulsa', 62, 28),\n",
       " ('Tulane', 'Florida International', 10, 23),\n",
       " ('Tulane', 'South Florida', 28, 34),\n",
       " ('Tulsa', 'Oklahoma State', 24, 59),\n",
       " ('Tulsa', 'Louisiana-Lafayette', 66, 42),\n",
       " ('Tulsa', 'Toledo', 51, 54),\n",
       " ('Tulsa', 'New Mexico', 13, 16),\n",
       " ('Tulsa', 'Navy', 21, 31),\n",
       " ('Tulsa', 'Tulane', 28, 62),\n",
       " ('Tulsa', 'Houston', 45, 17),\n",
       " ('Tulsa', 'Connecticut', 14, 20),\n",
       " ('UCLA', 'Texas A&M;', 45, 44),\n",
       " ('UCLA', 'Hawaii', 56, 23),\n",
       " ('UCLA', 'Memphis', 45, 48),\n",
       " ('UCLA', 'Stanford', 34, 58),\n",
       " ('UCLA', 'Colorado', 27, 23),\n",
       " ('UCLA', 'Arizona', 30, 47),\n",
       " ('UCLA', 'Oregon', 31, 14),\n",
       " ('Utah', 'North Dakota', 37, 16),\n",
       " ('Utah', 'Brigham Young', 19, 13),\n",
       " ('Utah', 'San Jose State', 54, 16),\n",
       " ('Utah', 'Arizona', 30, 24),\n",
       " ('Utah', 'Stanford', 20, 23),\n",
       " ('Utah', 'Southern California', 27, 28),\n",
       " ('Utah', 'Arizona State', 10, 30),\n",
       " ('Utah State', 'Wisconsin', 10, 59),\n",
       " ('Utah State', 'Idaho State', 51, 13),\n",
       " ('Utah State', 'Wake Forest', 10, 46),\n",
       " ('Utah State', 'San Jose State', 61, 10),\n",
       " ('Utah State', 'Brigham Young', 40, 24),\n",
       " ('Utah State', 'Colorado State', 14, 27),\n",
       " ('Utah State', 'Wyoming', 23, 28),\n",
       " ('Utah State', 'Nevada-Las Vegas', 52, 28),\n",
       " ('Vanderbilt', 'Middle Tennessee State', 28, 6),\n",
       " ('Vanderbilt', 'Alabama A&M;', 42, 0),\n",
       " ('Vanderbilt', 'Kansas State', 14, 7),\n",
       " ('Vanderbilt', 'Florida', 24, 38),\n",
       " ('Vanderbilt', 'Georgia', 14, 45),\n",
       " ('Vanderbilt', 'Mississippi', 35, 57),\n",
       " ('Virginia', 'William & Mary', 28, 10),\n",
       " ('Virginia', 'Indiana', 17, 34),\n",
       " ('Virginia', 'Connecticut', 38, 18),\n",
       " ('Virginia', 'Boise State', 42, 23),\n",
       " ('Virginia', 'Duke', 28, 21),\n",
       " ('Virginia', 'North Carolina', 20, 14),\n",
       " ('Virginia', 'Boston College', 10, 41),\n",
       " ('Virginia Tech', 'West Virginia', 31, 24),\n",
       " ('Virginia Tech', 'Delaware', 27, 0),\n",
       " ('Virginia Tech', 'East Carolina', 64, 17),\n",
       " ('Virginia Tech', 'Old Dominion', 38, 0),\n",
       " ('Virginia Tech', 'Clemson', 17, 31),\n",
       " ('Virginia Tech', 'Boston College', 23, 10),\n",
       " ('Virginia Tech', 'North Carolina', 59, 7),\n",
       " ('Wake Forest', 'Presbyterian', 51, 7),\n",
       " ('Wake Forest', 'Boston College', 34, 10),\n",
       " ('Wake Forest', 'Utah State', 46, 10),\n",
       " ('Wake Forest', 'Appalachian State', 20, 19),\n",
       " ('Wake Forest', 'Florida State', 19, 26),\n",
       " ('Wake Forest', 'Clemson', 14, 28),\n",
       " ('Wake Forest', 'Georgia Tech', 24, 38),\n",
       " ('Washington', 'Rutgers', 30, 14),\n",
       " ('Washington', 'Montana', 63, 7),\n",
       " ('Washington', 'Fresno State', 48, 16),\n",
       " ('Washington', 'Colorado', 37, 10),\n",
       " ('Washington', 'Oregon State', 42, 7),\n",
       " ('Washington', 'California', 38, 7),\n",
       " ('Washington', 'Arizona State', 7, 13),\n",
       " ('Washington State', 'Montana State', 31, 0),\n",
       " ('Washington State', 'Boise State', 47, 44),\n",
       " ('Washington State', 'Oregon State', 52, 23),\n",
       " ('Washington State', 'Nevada', 45, 7),\n",
       " ('Washington State', 'Southern California', 30, 27),\n",
       " ('Washington State', 'Oregon', 33, 10),\n",
       " ('Washington State', 'California', 3, 37),\n",
       " ('Washington State', 'Colorado', 28, 0),\n",
       " ('West Virginia', 'Virginia Tech', 24, 31),\n",
       " ('West Virginia', 'East Carolina', 56, 20),\n",
       " ('West Virginia', 'Delaware State', 59, 16),\n",
       " ('West Virginia', 'Kansas', 56, 34),\n",
       " ('West Virginia', 'Texas Christian', 24, 31),\n",
       " ('West Virginia', 'Texas Tech', 46, 35),\n",
       " ('West Virginia', 'Baylor', 38, 36),\n",
       " ('Western Kentucky', 'Eastern Kentucky', 31, 17),\n",
       " ('Western Kentucky', 'Illinois', 7, 20),\n",
       " ('Western Kentucky', 'Louisiana Tech', 22, 23),\n",
       " ('Western Kentucky', 'Ball State', 33, 21),\n",
       " ('Western Kentucky', 'Texas-El Paso', 15, 14),\n",
       " ('Western Kentucky', 'Charlotte', 45, 14),\n",
       " ('Western Kentucky', 'Old Dominion', 35, 31),\n",
       " ('Western Michigan', 'Southern California', 31, 49),\n",
       " ('Western Michigan', 'Michigan State', 14, 28),\n",
       " ('Western Michigan', 'Idaho', 37, 28),\n",
       " ('Western Michigan', 'Wagner', 49, 14),\n",
       " ('Western Michigan', 'Ball State', 55, 3),\n",
       " ('Western Michigan', 'Buffalo', 71, 68),\n",
       " ('Western Michigan', 'Akron', 13, 14),\n",
       " ('Western Michigan', 'Eastern Michigan', 20, 17),\n",
       " ('Wisconsin', 'Utah State', 59, 10),\n",
       " ('Wisconsin', 'Florida Atlantic', 31, 14),\n",
       " ('Wisconsin', 'Brigham Young', 40, 6),\n",
       " ('Wisconsin', 'Northwestern', 33, 24),\n",
       " ('Wisconsin', 'Nebraska', 38, 17),\n",
       " ('Wisconsin', 'Purdue', 17, 9),\n",
       " ('Wisconsin', 'Maryland', 38, 13),\n",
       " ('Wyoming', 'Iowa', 3, 24),\n",
       " ('Wyoming', 'Gardner-Webb', 27, 0),\n",
       " ('Wyoming', 'Oregon', 13, 49),\n",
       " ('Wyoming', 'Hawaii', 28, 21),\n",
       " ('Wyoming', 'Texas State', 45, 10),\n",
       " ('Wyoming', 'Utah State', 28, 23),\n",
       " ('Wyoming', 'Boise State', 14, 24)]"
      ]
     },
     "execution_count": 21,
     "metadata": {},
     "output_type": "execute_result"
    }
   ],
   "source": [
    "all_games"
   ]
  },
  {
   "cell_type": "code",
   "execution_count": 90,
   "metadata": {},
   "outputs": [
    {
     "data": {
      "text/plain": [
       "'New Mexico'"
      ]
     },
     "execution_count": 90,
     "metadata": {},
     "output_type": "execute_result"
    }
   ],
   "source": [
    "example2.replace('*', '')"
   ]
  },
  {
   "cell_type": "markdown",
   "metadata": {
    "collapsed": true
   },
   "source": [
    "There are approximately twice as many games as there should be because the teams appear in both orders"
   ]
  },
  {
   "cell_type": "code",
   "execution_count": 91,
   "metadata": {
    "collapsed": true
   },
   "outputs": [],
   "source": [
    "def alpha(game):\n",
    "    team1, team2, score1, score2 = game\n",
    "    if team1 < team2:\n",
    "        return game\n",
    "    else:\n",
    "        return (team2, team1, score2, score1)"
   ]
  },
  {
   "cell_type": "code",
   "execution_count": 92,
   "metadata": {
    "collapsed": true
   },
   "outputs": [],
   "source": [
    "all_games_alpha = [alpha(game) for game in all_games]\n",
    "all_games_alpha = list(set(all_games_alpha))"
   ]
  },
  {
   "cell_type": "code",
   "execution_count": 93,
   "metadata": {},
   "outputs": [
    {
     "data": {
      "text/plain": [
       "525"
      ]
     },
     "execution_count": 93,
     "metadata": {},
     "output_type": "execute_result"
    }
   ],
   "source": [
    "len(all_games_alpha)"
   ]
  },
  {
   "cell_type": "markdown",
   "metadata": {},
   "source": [
    "It works!"
   ]
  },
  {
   "cell_type": "code",
   "execution_count": 1,
   "metadata": {
    "collapsed": true
   },
   "outputs": [],
   "source": [
    "##TODO: Make this object oriented."
   ]
  },
  {
   "cell_type": "markdown",
   "metadata": {},
   "source": [
    "### Random Walk Model"
   ]
  },
  {
   "cell_type": "code",
   "execution_count": 94,
   "metadata": {
    "collapsed": true
   },
   "outputs": [],
   "source": [
    "import networkx as nx"
   ]
  },
  {
   "cell_type": "markdown",
   "metadata": {},
   "source": [
    "First, prepare the edges."
   ]
  },
  {
   "cell_type": "code",
   "execution_count": 95,
   "metadata": {
    "collapsed": true
   },
   "outputs": [],
   "source": [
    "def game_to_edge_ratio(game):\n",
    "    team1, team2, score1, score2 = game\n",
    "    if score1 <= score2:\n",
    "        return (team1, team2, np.sqrt(float(score2-score1)/score2))\n",
    "    else:\n",
    "        return (team2, team1, np.sqrt(float(score1-score2)/score1))"
   ]
  },
  {
   "cell_type": "code",
   "execution_count": 96,
   "metadata": {
    "collapsed": true
   },
   "outputs": [],
   "source": [
    "def game_to_edge(game):\n",
    "    team1, team2, score1, score2 = game\n",
    "    if score1 <= score2:\n",
    "        return (team1, team2, float(score2-score1))\n",
    "    else:\n",
    "        return (team2, team1, float(score1-score2))"
   ]
  },
  {
   "cell_type": "code",
   "execution_count": 97,
   "metadata": {
    "collapsed": true
   },
   "outputs": [],
   "source": [
    "edge_list = [game_to_edge(game) for game in all_games_alpha]"
   ]
  },
  {
   "cell_type": "markdown",
   "metadata": {},
   "source": [
    "Sanity Check: Did I get all the games with no repeats?"
   ]
  },
  {
   "cell_type": "code",
   "execution_count": 99,
   "metadata": {},
   "outputs": [
    {
     "name": "stdout",
     "output_type": "stream",
     "text": [
      "7\n"
     ]
    },
    {
     "data": {
      "text/plain": [
       "[('Cincinnati', 'Michigan', 22.0),\n",
       " ('Florida', 'Michigan', 16.0),\n",
       " ('Air Force', 'Michigan', 16.0),\n",
       " ('Michigan', 'Michigan State', 4.0),\n",
       " ('Indiana', 'Michigan', 7.0),\n",
       " ('Purdue', 'Michigan', 18.0),\n",
       " ('Michigan', 'Penn State', 29.0)]"
      ]
     },
     "execution_count": 99,
     "metadata": {},
     "output_type": "execute_result"
    }
   ],
   "source": [
    "print(len([edge for edge in edge_list if edge[0]=='Michigan' or edge[1]=='Michigan']))\n",
    "[edge for edge in edge_list if edge[0]=='Michigan' or edge[1]=='Michigan']"
   ]
  },
  {
   "cell_type": "code",
   "execution_count": 100,
   "metadata": {
    "collapsed": true
   },
   "outputs": [],
   "source": [
    "G = nx.DiGraph()"
   ]
  },
  {
   "cell_type": "code",
   "execution_count": 101,
   "metadata": {
    "collapsed": true
   },
   "outputs": [],
   "source": [
    "G.add_weighted_edges_from(edge_list)"
   ]
  },
  {
   "cell_type": "code",
   "execution_count": 102,
   "metadata": {
    "collapsed": true
   },
   "outputs": [],
   "source": [
    "ranked = nx.pagerank_numpy(G, alpha=.65)"
   ]
  },
  {
   "cell_type": "markdown",
   "metadata": {},
   "source": [
    "I'll need the teams alphabetically sorted later..."
   ]
  },
  {
   "cell_type": "code",
   "execution_count": 103,
   "metadata": {
    "collapsed": true
   },
   "outputs": [],
   "source": [
    "page_rank_sorted = sorted(ranked.items(), key=operator.itemgetter(0))"
   ]
  },
  {
   "cell_type": "markdown",
   "metadata": {},
   "source": [
    "But let's look at what the teams look like sorted by the random walk ranking."
   ]
  },
  {
   "cell_type": "code",
   "execution_count": 104,
   "metadata": {
    "scrolled": false
   },
   "outputs": [
    {
     "data": {
      "text/plain": [
       "[('Georgia', 0.027556343871767433),\n",
       " ('Notre Dame', 0.02243333768137143),\n",
       " ('Clemson', 0.017777368984828377),\n",
       " ('Alabama', 0.01663683305561863),\n",
       " ('Mississippi State', 0.01598109763849987),\n",
       " ('Iowa State', 0.015928893782690624),\n",
       " ('Syracuse', 0.015827012920808167),\n",
       " ('Texas Christian', 0.0157777689982492),\n",
       " ('Oklahoma', 0.014337028804769012),\n",
       " ('Arizona State', 0.013354335517201641),\n",
       " ('Penn State', 0.012652002208014074),\n",
       " ('Central Florida', 0.012547097675031605),\n",
       " ('Auburn', 0.011972696838047834),\n",
       " ('Southern California', 0.011960887365065584),\n",
       " ('Washington', 0.011781285359938058),\n",
       " ('Ohio State', 0.01145701062589429),\n",
       " ('Texas', 0.010972944784021657),\n",
       " ('North Carolina State', 0.010670798095622675),\n",
       " ('South Carolina', 0.010295092293857461)]"
      ]
     },
     "execution_count": 104,
     "metadata": {},
     "output_type": "execute_result"
    }
   ],
   "source": [
    "sorted(ranked.items(), key=operator.itemgetter(1))[:-20:-1]"
   ]
  },
  {
   "cell_type": "markdown",
   "metadata": {
    "collapsed": true
   },
   "source": [
    "### Regression Model"
   ]
  },
  {
   "cell_type": "code",
   "execution_count": 105,
   "metadata": {
    "collapsed": true
   },
   "outputs": [],
   "source": [
    "import numpy as np"
   ]
  },
  {
   "cell_type": "code",
   "execution_count": 106,
   "metadata": {
    "collapsed": true
   },
   "outputs": [],
   "source": [
    "all_teams = set()\n",
    "for team1, team2, _, _ in all_games_alpha:\n",
    "    all_teams.add(team1)\n",
    "    all_teams.add(team2)\n",
    "all_teams = list(all_teams)"
   ]
  },
  {
   "cell_type": "markdown",
   "metadata": {},
   "source": [
    "I want to make a matrix with a row for each game. The teams will be the columns. I'll assign each team a number that will correspond to the column index."
   ]
  },
  {
   "cell_type": "code",
   "execution_count": 107,
   "metadata": {
    "collapsed": true
   },
   "outputs": [],
   "source": [
    "all_teams_tuples = zip(all_teams, range(len(all_teams)))\n",
    "team_dict = dict(all_teams_tuples)"
   ]
  },
  {
   "cell_type": "code",
   "execution_count": 108,
   "metadata": {
    "collapsed": true
   },
   "outputs": [],
   "source": [
    "my_matrix = np.empty((0,len(all_teams)), int)\n",
    "my_vector = np.empty((0, 1))"
   ]
  },
  {
   "cell_type": "code",
   "execution_count": 109,
   "metadata": {
    "collapsed": true
   },
   "outputs": [],
   "source": [
    "for team1, team2, score1, score2 in all_games_alpha:\n",
    "    row = np.zeros(len(all_teams))\n",
    "    row[team_dict[team1]]=1\n",
    "    row[team_dict[team2]]=-1\n",
    "    my_matrix = np.append(my_matrix, [row], axis=0)\n",
    "    my_vector = np.append(my_vector, [[score1 - score2]], axis=0)\n",
    "\n",
    "#adding the Massey Fudge Factor\n",
    "my_matrix = np.append(my_matrix, [np.ones(len(all_teams))], axis=0)\n",
    "my_vector = np.append(my_vector, [[0]], axis=0)"
   ]
  },
  {
   "cell_type": "markdown",
   "metadata": {},
   "source": [
    "Sanity check: Do my matrix and vector have compatible dimensions?"
   ]
  },
  {
   "cell_type": "code",
   "execution_count": 111,
   "metadata": {},
   "outputs": [
    {
     "name": "stdout",
     "output_type": "stream",
     "text": [
      "(526, 210)\n",
      "(526, 1)\n"
     ]
    }
   ],
   "source": [
    "print(my_matrix.shape)\n",
    "print(my_vector.shape)"
   ]
  },
  {
   "cell_type": "markdown",
   "metadata": {
    "collapsed": true
   },
   "source": [
    "Least Squares -- my favorite thing"
   ]
  },
  {
   "cell_type": "code",
   "execution_count": 112,
   "metadata": {
    "collapsed": true
   },
   "outputs": [],
   "source": [
    "soln = np.linalg.lstsq(my_matrix, my_vector)"
   ]
  },
  {
   "cell_type": "code",
   "execution_count": 113,
   "metadata": {
    "collapsed": true
   },
   "outputs": [],
   "source": [
    "ranks = list(np.ndarray.flatten(soln[0]))"
   ]
  },
  {
   "cell_type": "code",
   "execution_count": 114,
   "metadata": {
    "collapsed": true
   },
   "outputs": [],
   "source": [
    "ranked = zip(all_teams, ranks)"
   ]
  },
  {
   "cell_type": "code",
   "execution_count": 115,
   "metadata": {
    "collapsed": true
   },
   "outputs": [],
   "source": [
    "sorted_x = sorted(ranked, key=operator.itemgetter(1))"
   ]
  },
  {
   "cell_type": "markdown",
   "metadata": {},
   "source": [
    "Let's see the results"
   ]
  },
  {
   "cell_type": "code",
   "execution_count": 116,
   "metadata": {},
   "outputs": [
    {
     "data": {
      "text/plain": [
       "[('Alabama', 45.928740962811588),\n",
       " ('Ohio State', 44.917722389827318),\n",
       " ('Penn State', 44.416209454554206),\n",
       " ('Notre Dame', 43.297013876086375),\n",
       " ('Clemson', 40.680722081124543),\n",
       " ('Georgia', 40.071158174643969),\n",
       " ('Central Florida', 36.452915824755998),\n",
       " ('Wisconsin', 36.181800714614582),\n",
       " ('Oklahoma State', 35.887366427495792),\n",
       " ('Virginia Tech', 35.842868735008359),\n",
       " ('Texas Christian', 35.780378630715468),\n",
       " ('Auburn', 35.215588406437185),\n",
       " ('Oklahoma', 33.262606032530364),\n",
       " ('Washington', 32.879365223288588),\n",
       " ('Western Illinois', 30.792069743221884),\n",
       " ('Iowa State', 30.050840263547421),\n",
       " ('Stanford', 28.265258991215859),\n",
       " ('Mississippi State', 27.771213016342514),\n",
       " ('Texas', 26.482788051338609)]"
      ]
     },
     "execution_count": 116,
     "metadata": {},
     "output_type": "execute_result"
    }
   ],
   "source": [
    "sorted_x[:-20:-1]"
   ]
  },
  {
   "cell_type": "markdown",
   "metadata": {},
   "source": [
    "Portland State! Are you kidding me? I'll use regularization to correct this apparent over-fitting."
   ]
  },
  {
   "cell_type": "markdown",
   "metadata": {
    "collapsed": true
   },
   "source": [
    "### Regularized Regression"
   ]
  },
  {
   "cell_type": "code",
   "execution_count": 117,
   "metadata": {},
   "outputs": [
    {
     "name": "stderr",
     "output_type": "stream",
     "text": [
      "/Users/danielfile/anaconda/lib/python3.6/site-packages/sklearn/cross_validation.py:44: DeprecationWarning: This module was deprecated in version 0.18 in favor of the model_selection module into which all the refactored classes and functions are moved. Also note that the interface of the new CV iterators are different from that of this module. This module will be removed in 0.20.\n",
      "  \"This module will be removed in 0.20.\", DeprecationWarning)\n",
      "/Users/danielfile/anaconda/lib/python3.6/site-packages/sklearn/grid_search.py:43: DeprecationWarning: This module was deprecated in version 0.18 in favor of the model_selection module into which all the refactored classes and functions are moved. This module will be removed in 0.20.\n",
      "  DeprecationWarning)\n"
     ]
    }
   ],
   "source": [
    "from sklearn import linear_model, grid_search, preprocessing"
   ]
  },
  {
   "cell_type": "code",
   "execution_count": 118,
   "metadata": {
    "collapsed": true
   },
   "outputs": [],
   "source": [
    "lm = linear_model.Ridge()\n",
    "parameters = {'alpha':[0.01, 0.1, 1, 10, 100]}\n"
   ]
  },
  {
   "cell_type": "code",
   "execution_count": 119,
   "metadata": {
    "collapsed": true
   },
   "outputs": [],
   "source": [
    "clf = grid_search.GridSearchCV(lm, parameters)"
   ]
  },
  {
   "cell_type": "code",
   "execution_count": 120,
   "metadata": {},
   "outputs": [
    {
     "data": {
      "text/plain": [
       "GridSearchCV(cv=None, error_score='raise',\n",
       "       estimator=Ridge(alpha=1.0, copy_X=True, fit_intercept=True, max_iter=None,\n",
       "   normalize=False, random_state=None, solver='auto', tol=0.001),\n",
       "       fit_params={}, iid=True, n_jobs=1,\n",
       "       param_grid={'alpha': [0.01, 0.1, 1, 10, 100]},\n",
       "       pre_dispatch='2*n_jobs', refit=True, scoring=None, verbose=0)"
      ]
     },
     "execution_count": 120,
     "metadata": {},
     "output_type": "execute_result"
    }
   ],
   "source": [
    "clf.fit(my_matrix, my_vector)"
   ]
  },
  {
   "cell_type": "code",
   "execution_count": 121,
   "metadata": {
    "collapsed": true
   },
   "outputs": [],
   "source": [
    "ridge = clf.best_estimator_"
   ]
  },
  {
   "cell_type": "code",
   "execution_count": 122,
   "metadata": {},
   "outputs": [
    {
     "data": {
      "text/plain": [
       "Ridge(alpha=0.1, copy_X=True, fit_intercept=True, max_iter=None,\n",
       "   normalize=False, random_state=None, solver='auto', tol=0.001)"
      ]
     },
     "execution_count": 122,
     "metadata": {},
     "output_type": "execute_result"
    }
   ],
   "source": [
    "ridge.fit(my_matrix, my_vector)"
   ]
  },
  {
   "cell_type": "markdown",
   "metadata": {},
   "source": [
    "I have my model, and it's been fited. Let's take a look."
   ]
  },
  {
   "cell_type": "code",
   "execution_count": null,
   "metadata": {
    "collapsed": true
   },
   "outputs": [],
   "source": []
  },
  {
   "cell_type": "code",
   "execution_count": 123,
   "metadata": {
    "collapsed": true
   },
   "outputs": [],
   "source": [
    "linear_rank = zip(all_teams, list(preprocessing.scale(ridge.coef_[0])))"
   ]
  },
  {
   "cell_type": "code",
   "execution_count": 124,
   "metadata": {},
   "outputs": [
    {
     "data": {
      "text/plain": [
       "[('Alabama', 2.2425768107302062),\n",
       " ('Ohio State', 2.1298733634801987),\n",
       " ('Penn State', 2.0769853711764101),\n",
       " ('Notre Dame', 2.0116652569112725),\n",
       " ('Clemson', 1.924603532851985),\n",
       " ('Georgia', 1.9122442408077609),\n",
       " ('Central Florida', 1.7758937039730498),\n",
       " ('Oklahoma State', 1.7052534881402999),\n",
       " ('Auburn', 1.6901581816996316),\n",
       " ('Texas Christian', 1.6765027236088641),\n",
       " ('Wisconsin', 1.6619679564279919),\n",
       " ('Virginia Tech', 1.6317688405544515),\n",
       " ('Oklahoma', 1.5469178137071016),\n",
       " ('Washington', 1.5417165187443449),\n",
       " ('Iowa State', 1.4138226793246269),\n",
       " ('Western Illinois', 1.353158923704751),\n",
       " ('Stanford', 1.2939463844307979),\n",
       " ('Mississippi State', 1.2792096689375778),\n",
       " ('Miami (Florida)', 1.2207888518924985)]"
      ]
     },
     "execution_count": 124,
     "metadata": {},
     "output_type": "execute_result"
    }
   ],
   "source": [
    "sorted(linear_rank, key=operator.itemgetter(1))[:-20:-1]"
   ]
  },
  {
   "cell_type": "markdown",
   "metadata": {},
   "source": [
    "It knocked down Portland State a little bit, but not much..."
   ]
  },
  {
   "cell_type": "markdown",
   "metadata": {},
   "source": [
    "### Ensemble"
   ]
  },
  {
   "cell_type": "markdown",
   "metadata": {},
   "source": [
    "I need to put the two models on the same scale."
   ]
  },
  {
   "cell_type": "code",
   "execution_count": 125,
   "metadata": {
    "collapsed": true
   },
   "outputs": [],
   "source": [
    "linear_rank_sorted = sorted(linear_rank, key=operator.itemgetter(0))"
   ]
  },
  {
   "cell_type": "code",
   "execution_count": 126,
   "metadata": {},
   "outputs": [
    {
     "ename": "TypeError",
     "evalue": "'zip' object is not subscriptable",
     "output_type": "error",
     "traceback": [
      "\u001b[0;31m---------------------------------------------------------------------------\u001b[0m",
      "\u001b[0;31mTypeError\u001b[0m                                 Traceback (most recent call last)",
      "\u001b[0;32m<ipython-input-126-702478e3a9e8>\u001b[0m in \u001b[0;36m<module>\u001b[0;34m()\u001b[0m\n\u001b[0;32m----> 1\u001b[0;31m \u001b[0mpage_ranks\u001b[0m \u001b[0;34m=\u001b[0m \u001b[0mlist\u001b[0m\u001b[0;34m(\u001b[0m\u001b[0mpreprocessing\u001b[0m\u001b[0;34m.\u001b[0m\u001b[0mscale\u001b[0m\u001b[0;34m(\u001b[0m\u001b[0mzip\u001b[0m\u001b[0;34m(\u001b[0m\u001b[0;34m*\u001b[0m\u001b[0mpage_rank_sorted\u001b[0m\u001b[0;34m)\u001b[0m\u001b[0;34m[\u001b[0m\u001b[0;36m1\u001b[0m\u001b[0;34m]\u001b[0m\u001b[0;34m)\u001b[0m\u001b[0;34m)\u001b[0m\u001b[0;34m\u001b[0m\u001b[0m\n\u001b[0m",
      "\u001b[0;31mTypeError\u001b[0m: 'zip' object is not subscriptable"
     ]
    }
   ],
   "source": [
    "page_ranks = list(preprocessing.scale(zip(*page_rank_sorted)[1]))"
   ]
  },
  {
   "cell_type": "code",
   "execution_count": 127,
   "metadata": {},
   "outputs": [
    {
     "ename": "NameError",
     "evalue": "name 'page_ranks' is not defined",
     "output_type": "error",
     "traceback": [
      "\u001b[0;31m---------------------------------------------------------------------------\u001b[0m",
      "\u001b[0;31mNameError\u001b[0m                                 Traceback (most recent call last)",
      "\u001b[0;32m<ipython-input-127-a5b6a3d27417>\u001b[0m in \u001b[0;36m<module>\u001b[0;34m()\u001b[0m\n\u001b[0;32m----> 1\u001b[0;31m \u001b[0mfinal\u001b[0m \u001b[0;34m=\u001b[0m \u001b[0mzip\u001b[0m\u001b[0;34m(\u001b[0m\u001b[0mlinear_rank_sorted\u001b[0m\u001b[0;34m,\u001b[0m \u001b[0mpage_ranks\u001b[0m\u001b[0;34m)\u001b[0m\u001b[0;34m\u001b[0m\u001b[0m\n\u001b[0m",
      "\u001b[0;31mNameError\u001b[0m: name 'page_ranks' is not defined"
     ]
    }
   ],
   "source": [
    "final = zip(linear_rank_sorted, page_ranks)"
   ]
  },
  {
   "cell_type": "code",
   "execution_count": null,
   "metadata": {
    "collapsed": true
   },
   "outputs": [],
   "source": [
    "final = [(team, first + second) for (team, first), second in final]"
   ]
  },
  {
   "cell_type": "code",
   "execution_count": null,
   "metadata": {
    "collapsed": true
   },
   "outputs": [],
   "source": [
    "final = sorted(final, key=operator.itemgetter(1))"
   ]
  },
  {
   "cell_type": "code",
   "execution_count": null,
   "metadata": {
    "collapsed": true
   },
   "outputs": [],
   "source": [
    "final[:-50:-1]"
   ]
  },
  {
   "cell_type": "code",
   "execution_count": null,
   "metadata": {
    "collapsed": true
   },
   "outputs": [],
   "source": []
  }
 ],
 "metadata": {
  "kernelspec": {
   "display_name": "Python 3",
   "language": "python",
   "name": "python3"
  },
  "language_info": {
   "codemirror_mode": {
    "name": "ipython",
    "version": 3
   },
   "file_extension": ".py",
   "mimetype": "text/x-python",
   "name": "python",
   "nbconvert_exporter": "python",
   "pygments_lexer": "ipython3",
   "version": "3.6.1"
  }
 },
 "nbformat": 4,
 "nbformat_minor": 1
}
